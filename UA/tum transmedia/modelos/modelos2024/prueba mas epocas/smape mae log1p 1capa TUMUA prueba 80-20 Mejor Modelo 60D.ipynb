{
 "cells": [
  {
   "cell_type": "code",
   "execution_count": 1,
   "metadata": {
    "colab": {
     "base_uri": "https://localhost:8080/"
    },
    "executionInfo": {
     "elapsed": 107478,
     "status": "ok",
     "timestamp": 1729621833122,
     "user": {
      "displayName": "Enrique Gauto Sand",
      "userId": "16871957759988522994"
     },
     "user_tz": 180
    },
    "id": "Yh5wGQn4jlGy",
    "outputId": "51c9821a-4301-4c23-996c-49e68f979bcd"
   },
   "outputs": [
    {
     "name": "stdout",
     "output_type": "stream",
     "text": [
      "Collecting keras-tuner==1.4.7\n",
      "  Downloading keras_tuner-1.4.7-py3-none-any.whl.metadata (5.4 kB)\n",
      "Requirement already satisfied: keras in /usr/local/lib/python3.10/dist-packages (from keras-tuner==1.4.7) (3.4.1)\n",
      "Requirement already satisfied: packaging in /usr/local/lib/python3.10/dist-packages (from keras-tuner==1.4.7) (24.1)\n",
      "Requirement already satisfied: requests in /usr/local/lib/python3.10/dist-packages (from keras-tuner==1.4.7) (2.32.3)\n",
      "Collecting kt-legacy (from keras-tuner==1.4.7)\n",
      "  Downloading kt_legacy-1.0.5-py3-none-any.whl.metadata (221 bytes)\n",
      "Requirement already satisfied: absl-py in /usr/local/lib/python3.10/dist-packages (from keras->keras-tuner==1.4.7) (1.4.0)\n",
      "Requirement already satisfied: numpy in /usr/local/lib/python3.10/dist-packages (from keras->keras-tuner==1.4.7) (1.26.4)\n",
      "Requirement already satisfied: rich in /usr/local/lib/python3.10/dist-packages (from keras->keras-tuner==1.4.7) (13.9.2)\n",
      "Requirement already satisfied: namex in /usr/local/lib/python3.10/dist-packages (from keras->keras-tuner==1.4.7) (0.0.8)\n",
      "Requirement already satisfied: h5py in /usr/local/lib/python3.10/dist-packages (from keras->keras-tuner==1.4.7) (3.11.0)\n",
      "Requirement already satisfied: optree in /usr/local/lib/python3.10/dist-packages (from keras->keras-tuner==1.4.7) (0.13.0)\n",
      "Requirement already satisfied: ml-dtypes in /usr/local/lib/python3.10/dist-packages (from keras->keras-tuner==1.4.7) (0.4.1)\n",
      "Requirement already satisfied: charset-normalizer<4,>=2 in /usr/local/lib/python3.10/dist-packages (from requests->keras-tuner==1.4.7) (3.4.0)\n",
      "Requirement already satisfied: idna<4,>=2.5 in /usr/local/lib/python3.10/dist-packages (from requests->keras-tuner==1.4.7) (3.10)\n",
      "Requirement already satisfied: urllib3<3,>=1.21.1 in /usr/local/lib/python3.10/dist-packages (from requests->keras-tuner==1.4.7) (2.2.3)\n",
      "Requirement already satisfied: certifi>=2017.4.17 in /usr/local/lib/python3.10/dist-packages (from requests->keras-tuner==1.4.7) (2024.8.30)\n",
      "Requirement already satisfied: typing-extensions>=4.5.0 in /usr/local/lib/python3.10/dist-packages (from optree->keras->keras-tuner==1.4.7) (4.12.2)\n",
      "Requirement already satisfied: markdown-it-py>=2.2.0 in /usr/local/lib/python3.10/dist-packages (from rich->keras->keras-tuner==1.4.7) (3.0.0)\n",
      "Requirement already satisfied: pygments<3.0.0,>=2.13.0 in /usr/local/lib/python3.10/dist-packages (from rich->keras->keras-tuner==1.4.7) (2.18.0)\n",
      "Requirement already satisfied: mdurl~=0.1 in /usr/local/lib/python3.10/dist-packages (from markdown-it-py>=2.2.0->rich->keras->keras-tuner==1.4.7) (0.1.2)\n",
      "Downloading keras_tuner-1.4.7-py3-none-any.whl (129 kB)\n",
      "\u001b[2K   \u001b[90m━━━━━━━━━━━━━━━━━━━━━━━━━━━━━━━━━━━━━━━━\u001b[0m \u001b[32m129.1/129.1 kB\u001b[0m \u001b[31m3.9 MB/s\u001b[0m eta \u001b[36m0:00:00\u001b[0m\n",
      "\u001b[?25hDownloading kt_legacy-1.0.5-py3-none-any.whl (9.6 kB)\n",
      "Installing collected packages: kt-legacy, keras-tuner\n",
      "Successfully installed keras-tuner-1.4.7 kt-legacy-1.0.5\n",
      "Collecting pandas==2.1.4\n",
      "  Downloading pandas-2.1.4-cp310-cp310-manylinux_2_17_x86_64.manylinux2014_x86_64.whl.metadata (18 kB)\n",
      "Requirement already satisfied: numpy<2,>=1.22.4 in /usr/local/lib/python3.10/dist-packages (from pandas==2.1.4) (1.26.4)\n",
      "Requirement already satisfied: python-dateutil>=2.8.2 in /usr/local/lib/python3.10/dist-packages (from pandas==2.1.4) (2.8.2)\n",
      "Requirement already satisfied: pytz>=2020.1 in /usr/local/lib/python3.10/dist-packages (from pandas==2.1.4) (2024.2)\n",
      "Requirement already satisfied: tzdata>=2022.1 in /usr/local/lib/python3.10/dist-packages (from pandas==2.1.4) (2024.2)\n",
      "Requirement already satisfied: six>=1.5 in /usr/local/lib/python3.10/dist-packages (from python-dateutil>=2.8.2->pandas==2.1.4) (1.16.0)\n",
      "Downloading pandas-2.1.4-cp310-cp310-manylinux_2_17_x86_64.manylinux2014_x86_64.whl (12.3 MB)\n",
      "\u001b[2K   \u001b[90m━━━━━━━━━━━━━━━━━━━━━━━━━━━━━━━━━━━━━━━━\u001b[0m \u001b[32m12.3/12.3 MB\u001b[0m \u001b[31m53.5 MB/s\u001b[0m eta \u001b[36m0:00:00\u001b[0m\n",
      "\u001b[?25hInstalling collected packages: pandas\n",
      "  Attempting uninstall: pandas\n",
      "    Found existing installation: pandas 2.2.2\n",
      "    Uninstalling pandas-2.2.2:\n",
      "      Successfully uninstalled pandas-2.2.2\n",
      "\u001b[31mERROR: pip's dependency resolver does not currently take into account all the packages that are installed. This behaviour is the source of the following dependency conflicts.\n",
      "google-colab 1.0.0 requires pandas==2.2.2, but you have pandas 2.1.4 which is incompatible.\u001b[0m\u001b[31m\n",
      "\u001b[0mSuccessfully installed pandas-2.1.4\n",
      "Requirement already satisfied: numpy==1.26.4 in /usr/local/lib/python3.10/dist-packages (1.26.4)\n",
      "Collecting tensorflow==2.15.0\n",
      "  Downloading tensorflow-2.15.0-cp310-cp310-manylinux_2_17_x86_64.manylinux2014_x86_64.whl.metadata (4.4 kB)\n",
      "Requirement already satisfied: absl-py>=1.0.0 in /usr/local/lib/python3.10/dist-packages (from tensorflow==2.15.0) (1.4.0)\n",
      "Requirement already satisfied: astunparse>=1.6.0 in /usr/local/lib/python3.10/dist-packages (from tensorflow==2.15.0) (1.6.3)\n",
      "Requirement already satisfied: flatbuffers>=23.5.26 in /usr/local/lib/python3.10/dist-packages (from tensorflow==2.15.0) (24.3.25)\n",
      "Requirement already satisfied: gast!=0.5.0,!=0.5.1,!=0.5.2,>=0.2.1 in /usr/local/lib/python3.10/dist-packages (from tensorflow==2.15.0) (0.6.0)\n",
      "Requirement already satisfied: google-pasta>=0.1.1 in /usr/local/lib/python3.10/dist-packages (from tensorflow==2.15.0) (0.2.0)\n",
      "Requirement already satisfied: h5py>=2.9.0 in /usr/local/lib/python3.10/dist-packages (from tensorflow==2.15.0) (3.11.0)\n",
      "Requirement already satisfied: libclang>=13.0.0 in /usr/local/lib/python3.10/dist-packages (from tensorflow==2.15.0) (18.1.1)\n",
      "Collecting ml-dtypes~=0.2.0 (from tensorflow==2.15.0)\n",
      "  Downloading ml_dtypes-0.2.0-cp310-cp310-manylinux_2_17_x86_64.manylinux2014_x86_64.whl.metadata (20 kB)\n",
      "Requirement already satisfied: numpy<2.0.0,>=1.23.5 in /usr/local/lib/python3.10/dist-packages (from tensorflow==2.15.0) (1.26.4)\n",
      "Requirement already satisfied: opt-einsum>=2.3.2 in /usr/local/lib/python3.10/dist-packages (from tensorflow==2.15.0) (3.4.0)\n",
      "Requirement already satisfied: packaging in /usr/local/lib/python3.10/dist-packages (from tensorflow==2.15.0) (24.1)\n",
      "Requirement already satisfied: protobuf!=4.21.0,!=4.21.1,!=4.21.2,!=4.21.3,!=4.21.4,!=4.21.5,<5.0.0dev,>=3.20.3 in /usr/local/lib/python3.10/dist-packages (from tensorflow==2.15.0) (3.20.3)\n",
      "Requirement already satisfied: setuptools in /usr/local/lib/python3.10/dist-packages (from tensorflow==2.15.0) (75.1.0)\n",
      "Requirement already satisfied: six>=1.12.0 in /usr/local/lib/python3.10/dist-packages (from tensorflow==2.15.0) (1.16.0)\n",
      "Requirement already satisfied: termcolor>=1.1.0 in /usr/local/lib/python3.10/dist-packages (from tensorflow==2.15.0) (2.5.0)\n",
      "Requirement already satisfied: typing-extensions>=3.6.6 in /usr/local/lib/python3.10/dist-packages (from tensorflow==2.15.0) (4.12.2)\n",
      "Collecting wrapt<1.15,>=1.11.0 (from tensorflow==2.15.0)\n",
      "  Downloading wrapt-1.14.1-cp310-cp310-manylinux_2_5_x86_64.manylinux1_x86_64.manylinux_2_17_x86_64.manylinux2014_x86_64.whl.metadata (6.7 kB)\n",
      "Requirement already satisfied: tensorflow-io-gcs-filesystem>=0.23.1 in /usr/local/lib/python3.10/dist-packages (from tensorflow==2.15.0) (0.37.1)\n",
      "Requirement already satisfied: grpcio<2.0,>=1.24.3 in /usr/local/lib/python3.10/dist-packages (from tensorflow==2.15.0) (1.64.1)\n",
      "Collecting tensorboard<2.16,>=2.15 (from tensorflow==2.15.0)\n",
      "  Downloading tensorboard-2.15.2-py3-none-any.whl.metadata (1.7 kB)\n",
      "Collecting tensorflow-estimator<2.16,>=2.15.0 (from tensorflow==2.15.0)\n",
      "  Downloading tensorflow_estimator-2.15.0-py2.py3-none-any.whl.metadata (1.3 kB)\n",
      "Collecting keras<2.16,>=2.15.0 (from tensorflow==2.15.0)\n",
      "  Downloading keras-2.15.0-py3-none-any.whl.metadata (2.4 kB)\n",
      "Requirement already satisfied: wheel<1.0,>=0.23.0 in /usr/local/lib/python3.10/dist-packages (from astunparse>=1.6.0->tensorflow==2.15.0) (0.44.0)\n",
      "Requirement already satisfied: google-auth<3,>=1.6.3 in /usr/local/lib/python3.10/dist-packages (from tensorboard<2.16,>=2.15->tensorflow==2.15.0) (2.27.0)\n",
      "Requirement already satisfied: google-auth-oauthlib<2,>=0.5 in /usr/local/lib/python3.10/dist-packages (from tensorboard<2.16,>=2.15->tensorflow==2.15.0) (1.2.1)\n",
      "Requirement already satisfied: markdown>=2.6.8 in /usr/local/lib/python3.10/dist-packages (from tensorboard<2.16,>=2.15->tensorflow==2.15.0) (3.7)\n",
      "Requirement already satisfied: requests<3,>=2.21.0 in /usr/local/lib/python3.10/dist-packages (from tensorboard<2.16,>=2.15->tensorflow==2.15.0) (2.32.3)\n",
      "Requirement already satisfied: tensorboard-data-server<0.8.0,>=0.7.0 in /usr/local/lib/python3.10/dist-packages (from tensorboard<2.16,>=2.15->tensorflow==2.15.0) (0.7.2)\n",
      "Requirement already satisfied: werkzeug>=1.0.1 in /usr/local/lib/python3.10/dist-packages (from tensorboard<2.16,>=2.15->tensorflow==2.15.0) (3.0.4)\n",
      "Requirement already satisfied: cachetools<6.0,>=2.0.0 in /usr/local/lib/python3.10/dist-packages (from google-auth<3,>=1.6.3->tensorboard<2.16,>=2.15->tensorflow==2.15.0) (5.5.0)\n",
      "Requirement already satisfied: pyasn1-modules>=0.2.1 in /usr/local/lib/python3.10/dist-packages (from google-auth<3,>=1.6.3->tensorboard<2.16,>=2.15->tensorflow==2.15.0) (0.4.1)\n",
      "Requirement already satisfied: rsa<5,>=3.1.4 in /usr/local/lib/python3.10/dist-packages (from google-auth<3,>=1.6.3->tensorboard<2.16,>=2.15->tensorflow==2.15.0) (4.9)\n",
      "Requirement already satisfied: requests-oauthlib>=0.7.0 in /usr/local/lib/python3.10/dist-packages (from google-auth-oauthlib<2,>=0.5->tensorboard<2.16,>=2.15->tensorflow==2.15.0) (1.3.1)\n",
      "Requirement already satisfied: charset-normalizer<4,>=2 in /usr/local/lib/python3.10/dist-packages (from requests<3,>=2.21.0->tensorboard<2.16,>=2.15->tensorflow==2.15.0) (3.4.0)\n",
      "Requirement already satisfied: idna<4,>=2.5 in /usr/local/lib/python3.10/dist-packages (from requests<3,>=2.21.0->tensorboard<2.16,>=2.15->tensorflow==2.15.0) (3.10)\n",
      "Requirement already satisfied: urllib3<3,>=1.21.1 in /usr/local/lib/python3.10/dist-packages (from requests<3,>=2.21.0->tensorboard<2.16,>=2.15->tensorflow==2.15.0) (2.2.3)\n",
      "Requirement already satisfied: certifi>=2017.4.17 in /usr/local/lib/python3.10/dist-packages (from requests<3,>=2.21.0->tensorboard<2.16,>=2.15->tensorflow==2.15.0) (2024.8.30)\n",
      "Requirement already satisfied: MarkupSafe>=2.1.1 in /usr/local/lib/python3.10/dist-packages (from werkzeug>=1.0.1->tensorboard<2.16,>=2.15->tensorflow==2.15.0) (3.0.2)\n",
      "Requirement already satisfied: pyasn1<0.7.0,>=0.4.6 in /usr/local/lib/python3.10/dist-packages (from pyasn1-modules>=0.2.1->google-auth<3,>=1.6.3->tensorboard<2.16,>=2.15->tensorflow==2.15.0) (0.6.1)\n",
      "Requirement already satisfied: oauthlib>=3.0.0 in /usr/local/lib/python3.10/dist-packages (from requests-oauthlib>=0.7.0->google-auth-oauthlib<2,>=0.5->tensorboard<2.16,>=2.15->tensorflow==2.15.0) (3.2.2)\n",
      "Downloading tensorflow-2.15.0-cp310-cp310-manylinux_2_17_x86_64.manylinux2014_x86_64.whl (475.2 MB)\n",
      "\u001b[2K   \u001b[90m━━━━━━━━━━━━━━━━━━━━━━━━━━━━━━━━━━━━━━━━\u001b[0m \u001b[32m475.2/475.2 MB\u001b[0m \u001b[31m3.2 MB/s\u001b[0m eta \u001b[36m0:00:00\u001b[0m\n",
      "\u001b[?25hDownloading keras-2.15.0-py3-none-any.whl (1.7 MB)\n",
      "\u001b[2K   \u001b[90m━━━━━━━━━━━━━━━━━━━━━━━━━━━━━━━━━━━━━━━━\u001b[0m \u001b[32m1.7/1.7 MB\u001b[0m \u001b[31m21.3 MB/s\u001b[0m eta \u001b[36m0:00:00\u001b[0m\n",
      "\u001b[?25hDownloading ml_dtypes-0.2.0-cp310-cp310-manylinux_2_17_x86_64.manylinux2014_x86_64.whl (1.0 MB)\n",
      "\u001b[2K   \u001b[90m━━━━━━━━━━━━━━━━━━━━━━━━━━━━━━━━━━━━━━━━\u001b[0m \u001b[32m1.0/1.0 MB\u001b[0m \u001b[31m25.5 MB/s\u001b[0m eta \u001b[36m0:00:00\u001b[0m\n",
      "\u001b[?25hDownloading tensorboard-2.15.2-py3-none-any.whl (5.5 MB)\n",
      "\u001b[2K   \u001b[90m━━━━━━━━━━━━━━━━━━━━━━━━━━━━━━━━━━━━━━━━\u001b[0m \u001b[32m5.5/5.5 MB\u001b[0m \u001b[31m51.7 MB/s\u001b[0m eta \u001b[36m0:00:00\u001b[0m\n",
      "\u001b[?25hDownloading tensorflow_estimator-2.15.0-py2.py3-none-any.whl (441 kB)\n",
      "\u001b[2K   \u001b[90m━━━━━━━━━━━━━━━━━━━━━━━━━━━━━━━━━━━━━━━━\u001b[0m \u001b[32m442.0/442.0 kB\u001b[0m \u001b[31m15.8 MB/s\u001b[0m eta \u001b[36m0:00:00\u001b[0m\n",
      "\u001b[?25hDownloading wrapt-1.14.1-cp310-cp310-manylinux_2_5_x86_64.manylinux1_x86_64.manylinux_2_17_x86_64.manylinux2014_x86_64.whl (77 kB)\n",
      "\u001b[2K   \u001b[90m━━━━━━━━━━━━━━━━━━━━━━━━━━━━━━━━━━━━━━━━\u001b[0m \u001b[32m77.9/77.9 kB\u001b[0m \u001b[31m4.4 MB/s\u001b[0m eta \u001b[36m0:00:00\u001b[0m\n",
      "\u001b[?25hInstalling collected packages: wrapt, tensorflow-estimator, ml-dtypes, keras, tensorboard, tensorflow\n",
      "  Attempting uninstall: wrapt\n",
      "    Found existing installation: wrapt 1.16.0\n",
      "    Uninstalling wrapt-1.16.0:\n",
      "      Successfully uninstalled wrapt-1.16.0\n",
      "  Attempting uninstall: ml-dtypes\n",
      "    Found existing installation: ml-dtypes 0.4.1\n",
      "    Uninstalling ml-dtypes-0.4.1:\n",
      "      Successfully uninstalled ml-dtypes-0.4.1\n",
      "  Attempting uninstall: keras\n",
      "    Found existing installation: keras 3.4.1\n",
      "    Uninstalling keras-3.4.1:\n",
      "      Successfully uninstalled keras-3.4.1\n",
      "  Attempting uninstall: tensorboard\n",
      "    Found existing installation: tensorboard 2.17.0\n",
      "    Uninstalling tensorboard-2.17.0:\n",
      "      Successfully uninstalled tensorboard-2.17.0\n",
      "  Attempting uninstall: tensorflow\n",
      "    Found existing installation: tensorflow 2.17.0\n",
      "    Uninstalling tensorflow-2.17.0:\n",
      "      Successfully uninstalled tensorflow-2.17.0\n",
      "\u001b[31mERROR: pip's dependency resolver does not currently take into account all the packages that are installed. This behaviour is the source of the following dependency conflicts.\n",
      "tensorstore 0.1.66 requires ml-dtypes>=0.3.1, but you have ml-dtypes 0.2.0 which is incompatible.\n",
      "tf-keras 2.17.0 requires tensorflow<2.18,>=2.17, but you have tensorflow 2.15.0 which is incompatible.\u001b[0m\u001b[31m\n",
      "\u001b[0mSuccessfully installed keras-2.15.0 ml-dtypes-0.2.0 tensorboard-2.15.2 tensorflow-2.15.0 tensorflow-estimator-2.15.0 wrapt-1.14.1\n"
     ]
    }
   ],
   "source": [
    "!pip install keras-tuner==1.4.7\n",
    "!pip install pandas==2.1.4\n",
    "!pip install numpy==1.26.4\n",
    "!pip install tensorflow==2.15.0"
   ]
  },
  {
   "cell_type": "markdown",
   "metadata": {
    "id": "eP3Tmu4pKG-U"
   },
   "source": []
  },
  {
   "cell_type": "code",
   "execution_count": 2,
   "metadata": {
    "executionInfo": {
     "elapsed": 9647,
     "status": "ok",
     "timestamp": 1729621842758,
     "user": {
      "displayName": "Enrique Gauto Sand",
      "userId": "16871957759988522994"
     },
     "user_tz": 180
    },
    "id": "x6Xuz8cqauYb"
   },
   "outputs": [],
   "source": [
    "import numpy as np\n",
    "import tensorflow as tf\n",
    "from tensorflow import keras #desde tensorflow 2 se importa keras,  como paquete integrado de tensorflow\n",
    "import pandas as pd\n",
    "import numpy as np\n",
    "from math import sqrt\n",
    "from numpy import concatenate\n",
    "from matplotlib import pyplot\n",
    "from pandas import read_csv\n",
    "from pandas import DataFrame\n",
    "from pandas import concat\n",
    "from sklearn.preprocessing import MinMaxScaler\n",
    "from sklearn.preprocessing import LabelEncoder\n",
    "from sklearn.metrics import mean_squared_error\n",
    "from keras.models import Sequential\n",
    "from keras.layers import Dense\n",
    "from keras.layers import LSTM, GRU\n",
    "import tensorflow as tf\n",
    "from datetime import datetime\n",
    "from keras.models import Sequential\n",
    "from keras.layers import Dense,Flatten,LSTM,RepeatVector,TimeDistributed#, GRUCellV2\n",
    "from copy import deepcopy\n"
   ]
  },
  {
   "cell_type": "code",
   "execution_count": 3,
   "metadata": {
    "colab": {
     "base_uri": "https://localhost:8080/"
    },
    "executionInfo": {
     "elapsed": 57915,
     "status": "ok",
     "timestamp": 1729621900660,
     "user": {
      "displayName": "Enrique Gauto Sand",
      "userId": "16871957759988522994"
     },
     "user_tz": 180
    },
    "id": "R_2i5Fw0awOr",
    "outputId": "1de2e66a-a5dc-4d27-fa89-d8d6e2dfa72a"
   },
   "outputs": [
    {
     "name": "stdout",
     "output_type": "stream",
     "text": [
      "Mounted at /content/drive\n"
     ]
    }
   ],
   "source": [
    "\n",
    "from google.colab import drive\n",
    "\n",
    "drive.mount('/content/drive')"
   ]
  },
  {
   "cell_type": "code",
   "execution_count": 5,
   "metadata": {
    "colab": {
     "base_uri": "https://localhost:8080/",
     "height": 1000
    },
    "executionInfo": {
     "elapsed": 2162,
     "status": "ok",
     "timestamp": 1729621994972,
     "user": {
      "displayName": "Enrique Gauto Sand",
      "userId": "16871957759988522994"
     },
     "user_tz": 180
    },
    "id": "kpkiNaL_boap",
    "outputId": "0c7568e0-2a5b-4b6d-bde7-8040028498b3"
   },
   "outputs": [
    {
     "name": "stdout",
     "output_type": "stream",
     "text": [
      "58888\n",
      "Index(['Número de vistas de página', 'Usuarios nuevos', 'Usuarios',\n",
      "       'Número de sesiones por usuario', 'Sesiones', 'Argentina',\n",
      "       'Otros Paises', 'mobile', 'desktop', 'tablet',\n",
      "       'Categoría de dispositivo promedio', 'Categoría de dispositivo std',\n",
      "       'Windows', 'Android', 'Linux', 'Macintosh',\n",
      "       'Sistema operativo (not set)', 'iOS', 'Windows Phone', 'Chrome OS',\n",
      "       'Tizen', 'Sistema operativo promedio', 'Sistema operativo std',\n",
      "       'Organic Search', 'Social', 'Direct', 'Referral',\n",
      "       'Agrupación de canales predeterminada promedio',\n",
      "       'Agrupación de canales predeterminada std', 'mediana_de_medianas',\n",
      "       'lag_90', 'lag_180', 'lag_270', 'lag_360'],\n",
      "      dtype='object')\n",
      "(1732, 34)\n",
      "      Número de vistas de página  Usuarios nuevos  Usuarios  \\\n",
      "0                          200.0             23.0      23.0   \n",
      "1                           70.0             29.0      33.0   \n",
      "2                          323.0             20.0      27.0   \n",
      "3                          151.0             10.0      15.0   \n",
      "4                           37.0             12.0      13.0   \n",
      "...                          ...              ...       ...   \n",
      "1729                         9.0              3.0       6.0   \n",
      "1730                        50.0             18.0      27.0   \n",
      "1731                        62.0             26.0      38.0   \n",
      "1732                        34.0             10.0      16.0   \n",
      "1733                        81.0             30.0      41.0   \n",
      "\n",
      "      Número de sesiones por usuario  Sesiones  Argentina  Otros Paises  \\\n",
      "0                           1.217391      28.0      200.0           0.0   \n",
      "1                           1.121212      37.0       69.0           1.0   \n",
      "2                           1.333333      36.0      320.0           3.0   \n",
      "3                           1.200000      18.0      149.0           2.0   \n",
      "4                           1.153846      15.0       37.0           0.0   \n",
      "...                              ...       ...        ...           ...   \n",
      "1729                        1.500000       9.0        8.0           1.0   \n",
      "1730                        1.111111      30.0       42.0           8.0   \n",
      "1731                        1.368421      52.0       50.0          12.0   \n",
      "1732                        1.000000      16.0       29.0           5.0   \n",
      "1733                        1.170732      48.0       77.0           4.0   \n",
      "\n",
      "      mobile  desktop  tablet  ...  Social  Direct  Referral  \\\n",
      "0       23.0    177.0     0.0  ...     6.0   179.0       0.0   \n",
      "1       29.0     41.0     0.0  ...     7.0    45.0       0.0   \n",
      "2       28.0    295.0     0.0  ...     1.0   302.0       2.0   \n",
      "3       44.0    107.0     0.0  ...     0.0   145.0       0.0   \n",
      "4       18.0     19.0     0.0  ...    11.0    21.0       0.0   \n",
      "...      ...      ...     ...  ...     ...     ...       ...   \n",
      "1729     8.0      1.0     0.0  ...     0.0     0.0       0.0   \n",
      "1730    24.0     25.0     1.0  ...     0.0    27.0       0.0   \n",
      "1731    35.0     27.0     0.0  ...     8.0    28.0       0.0   \n",
      "1732    22.0     10.0     2.0  ...     0.0     9.0       0.0   \n",
      "1733    60.0     21.0     0.0  ...     2.0    44.0       0.0   \n",
      "\n",
      "      Agrupación de canales predeterminada promedio  \\\n",
      "0                                             50.00   \n",
      "1                                             17.50   \n",
      "2                                             80.75   \n",
      "3                                             37.75   \n",
      "4                                              9.25   \n",
      "...                                             ...   \n",
      "1729                                           2.25   \n",
      "1730                                          12.50   \n",
      "1731                                          15.50   \n",
      "1732                                           8.50   \n",
      "1733                                          20.25   \n",
      "\n",
      "      Agrupación de canales predeterminada std  mediana_de_medianas   lag_90  \\\n",
      "0                                    74.669270            22.024332  32.2905   \n",
      "1                                    17.124544            22.024332  32.2905   \n",
      "2                                   127.916720            22.024332  32.2905   \n",
      "3                                    61.969246            22.024332  32.2905   \n",
      "4                                     7.822244            22.024332  32.2905   \n",
      "...                                        ...                  ...      ...   \n",
      "1729                                  3.897114            46.500000  13.0000   \n",
      "1730                                 12.579745            48.000000  15.0000   \n",
      "1731                                 11.863811            48.000000  30.0000   \n",
      "1732                                 10.210289            45.500000  42.0000   \n",
      "1733                                 19.524023            45.500000  43.0000   \n",
      "\n",
      "        lag_180     lag_270    lag_360  \n",
      "0     33.648197   34.116962   34.36589  \n",
      "1     33.648197   34.116962   34.36589  \n",
      "2     33.648197   34.116962   34.36589  \n",
      "3     33.648197   34.116962   34.36589  \n",
      "4     33.648197   34.116962   34.36589  \n",
      "...         ...         ...        ...  \n",
      "1729  24.000000  109.000000  100.00000  \n",
      "1730   2.000000   46.000000   22.00000  \n",
      "1731  22.000000   28.000000   39.00000  \n",
      "1732   9.000000   29.000000    4.00000  \n",
      "1733  18.000000   25.000000   47.00000  \n",
      "\n",
      "[1732 rows x 34 columns]\n"
     ]
    },
    {
     "data": {
      "application/vnd.google.colaboratory.intrinsic+json": {
       "type": "dataframe",
       "variable_name": "dataset"
      },
      "text/html": [
       "\n",
       "  <div id=\"df-5e4cf32e-507f-4c0f-b6f3-59fb4ec2460e\" class=\"colab-df-container\">\n",
       "    <div>\n",
       "<style scoped>\n",
       "    .dataframe tbody tr th:only-of-type {\n",
       "        vertical-align: middle;\n",
       "    }\n",
       "\n",
       "    .dataframe tbody tr th {\n",
       "        vertical-align: top;\n",
       "    }\n",
       "\n",
       "    .dataframe thead th {\n",
       "        text-align: right;\n",
       "    }\n",
       "</style>\n",
       "<table border=\"1\" class=\"dataframe\">\n",
       "  <thead>\n",
       "    <tr style=\"text-align: right;\">\n",
       "      <th></th>\n",
       "      <th>Número de vistas de página</th>\n",
       "      <th>Usuarios nuevos</th>\n",
       "      <th>Usuarios</th>\n",
       "      <th>Número de sesiones por usuario</th>\n",
       "      <th>Sesiones</th>\n",
       "      <th>Argentina</th>\n",
       "      <th>Otros Paises</th>\n",
       "      <th>mobile</th>\n",
       "      <th>desktop</th>\n",
       "      <th>tablet</th>\n",
       "      <th>...</th>\n",
       "      <th>Social</th>\n",
       "      <th>Direct</th>\n",
       "      <th>Referral</th>\n",
       "      <th>Agrupación de canales predeterminada promedio</th>\n",
       "      <th>Agrupación de canales predeterminada std</th>\n",
       "      <th>mediana_de_medianas</th>\n",
       "      <th>lag_90</th>\n",
       "      <th>lag_180</th>\n",
       "      <th>lag_270</th>\n",
       "      <th>lag_360</th>\n",
       "    </tr>\n",
       "  </thead>\n",
       "  <tbody>\n",
       "    <tr>\n",
       "      <th>0</th>\n",
       "      <td>200.0</td>\n",
       "      <td>23.0</td>\n",
       "      <td>23.0</td>\n",
       "      <td>1.217391</td>\n",
       "      <td>28.0</td>\n",
       "      <td>200.0</td>\n",
       "      <td>0.0</td>\n",
       "      <td>23.0</td>\n",
       "      <td>177.0</td>\n",
       "      <td>0.0</td>\n",
       "      <td>...</td>\n",
       "      <td>6.0</td>\n",
       "      <td>179.0</td>\n",
       "      <td>0.0</td>\n",
       "      <td>50.00</td>\n",
       "      <td>74.669270</td>\n",
       "      <td>22.024332</td>\n",
       "      <td>32.2905</td>\n",
       "      <td>33.648197</td>\n",
       "      <td>34.116962</td>\n",
       "      <td>34.36589</td>\n",
       "    </tr>\n",
       "    <tr>\n",
       "      <th>1</th>\n",
       "      <td>70.0</td>\n",
       "      <td>29.0</td>\n",
       "      <td>33.0</td>\n",
       "      <td>1.121212</td>\n",
       "      <td>37.0</td>\n",
       "      <td>69.0</td>\n",
       "      <td>1.0</td>\n",
       "      <td>29.0</td>\n",
       "      <td>41.0</td>\n",
       "      <td>0.0</td>\n",
       "      <td>...</td>\n",
       "      <td>7.0</td>\n",
       "      <td>45.0</td>\n",
       "      <td>0.0</td>\n",
       "      <td>17.50</td>\n",
       "      <td>17.124544</td>\n",
       "      <td>22.024332</td>\n",
       "      <td>32.2905</td>\n",
       "      <td>33.648197</td>\n",
       "      <td>34.116962</td>\n",
       "      <td>34.36589</td>\n",
       "    </tr>\n",
       "    <tr>\n",
       "      <th>2</th>\n",
       "      <td>323.0</td>\n",
       "      <td>20.0</td>\n",
       "      <td>27.0</td>\n",
       "      <td>1.333333</td>\n",
       "      <td>36.0</td>\n",
       "      <td>320.0</td>\n",
       "      <td>3.0</td>\n",
       "      <td>28.0</td>\n",
       "      <td>295.0</td>\n",
       "      <td>0.0</td>\n",
       "      <td>...</td>\n",
       "      <td>1.0</td>\n",
       "      <td>302.0</td>\n",
       "      <td>2.0</td>\n",
       "      <td>80.75</td>\n",
       "      <td>127.916720</td>\n",
       "      <td>22.024332</td>\n",
       "      <td>32.2905</td>\n",
       "      <td>33.648197</td>\n",
       "      <td>34.116962</td>\n",
       "      <td>34.36589</td>\n",
       "    </tr>\n",
       "    <tr>\n",
       "      <th>3</th>\n",
       "      <td>151.0</td>\n",
       "      <td>10.0</td>\n",
       "      <td>15.0</td>\n",
       "      <td>1.200000</td>\n",
       "      <td>18.0</td>\n",
       "      <td>149.0</td>\n",
       "      <td>2.0</td>\n",
       "      <td>44.0</td>\n",
       "      <td>107.0</td>\n",
       "      <td>0.0</td>\n",
       "      <td>...</td>\n",
       "      <td>0.0</td>\n",
       "      <td>145.0</td>\n",
       "      <td>0.0</td>\n",
       "      <td>37.75</td>\n",
       "      <td>61.969246</td>\n",
       "      <td>22.024332</td>\n",
       "      <td>32.2905</td>\n",
       "      <td>33.648197</td>\n",
       "      <td>34.116962</td>\n",
       "      <td>34.36589</td>\n",
       "    </tr>\n",
       "    <tr>\n",
       "      <th>4</th>\n",
       "      <td>37.0</td>\n",
       "      <td>12.0</td>\n",
       "      <td>13.0</td>\n",
       "      <td>1.153846</td>\n",
       "      <td>15.0</td>\n",
       "      <td>37.0</td>\n",
       "      <td>0.0</td>\n",
       "      <td>18.0</td>\n",
       "      <td>19.0</td>\n",
       "      <td>0.0</td>\n",
       "      <td>...</td>\n",
       "      <td>11.0</td>\n",
       "      <td>21.0</td>\n",
       "      <td>0.0</td>\n",
       "      <td>9.25</td>\n",
       "      <td>7.822244</td>\n",
       "      <td>22.024332</td>\n",
       "      <td>32.2905</td>\n",
       "      <td>33.648197</td>\n",
       "      <td>34.116962</td>\n",
       "      <td>34.36589</td>\n",
       "    </tr>\n",
       "  </tbody>\n",
       "</table>\n",
       "<p>5 rows × 34 columns</p>\n",
       "</div>\n",
       "    <div class=\"colab-df-buttons\">\n",
       "\n",
       "  <div class=\"colab-df-container\">\n",
       "    <button class=\"colab-df-convert\" onclick=\"convertToInteractive('df-5e4cf32e-507f-4c0f-b6f3-59fb4ec2460e')\"\n",
       "            title=\"Convert this dataframe to an interactive table.\"\n",
       "            style=\"display:none;\">\n",
       "\n",
       "  <svg xmlns=\"http://www.w3.org/2000/svg\" height=\"24px\" viewBox=\"0 -960 960 960\">\n",
       "    <path d=\"M120-120v-720h720v720H120Zm60-500h600v-160H180v160Zm220 220h160v-160H400v160Zm0 220h160v-160H400v160ZM180-400h160v-160H180v160Zm440 0h160v-160H620v160ZM180-180h160v-160H180v160Zm440 0h160v-160H620v160Z\"/>\n",
       "  </svg>\n",
       "    </button>\n",
       "\n",
       "  <style>\n",
       "    .colab-df-container {\n",
       "      display:flex;\n",
       "      gap: 12px;\n",
       "    }\n",
       "\n",
       "    .colab-df-convert {\n",
       "      background-color: #E8F0FE;\n",
       "      border: none;\n",
       "      border-radius: 50%;\n",
       "      cursor: pointer;\n",
       "      display: none;\n",
       "      fill: #1967D2;\n",
       "      height: 32px;\n",
       "      padding: 0 0 0 0;\n",
       "      width: 32px;\n",
       "    }\n",
       "\n",
       "    .colab-df-convert:hover {\n",
       "      background-color: #E2EBFA;\n",
       "      box-shadow: 0px 1px 2px rgba(60, 64, 67, 0.3), 0px 1px 3px 1px rgba(60, 64, 67, 0.15);\n",
       "      fill: #174EA6;\n",
       "    }\n",
       "\n",
       "    .colab-df-buttons div {\n",
       "      margin-bottom: 4px;\n",
       "    }\n",
       "\n",
       "    [theme=dark] .colab-df-convert {\n",
       "      background-color: #3B4455;\n",
       "      fill: #D2E3FC;\n",
       "    }\n",
       "\n",
       "    [theme=dark] .colab-df-convert:hover {\n",
       "      background-color: #434B5C;\n",
       "      box-shadow: 0px 1px 3px 1px rgba(0, 0, 0, 0.15);\n",
       "      filter: drop-shadow(0px 1px 2px rgba(0, 0, 0, 0.3));\n",
       "      fill: #FFFFFF;\n",
       "    }\n",
       "  </style>\n",
       "\n",
       "    <script>\n",
       "      const buttonEl =\n",
       "        document.querySelector('#df-5e4cf32e-507f-4c0f-b6f3-59fb4ec2460e button.colab-df-convert');\n",
       "      buttonEl.style.display =\n",
       "        google.colab.kernel.accessAllowed ? 'block' : 'none';\n",
       "\n",
       "      async function convertToInteractive(key) {\n",
       "        const element = document.querySelector('#df-5e4cf32e-507f-4c0f-b6f3-59fb4ec2460e');\n",
       "        const dataTable =\n",
       "          await google.colab.kernel.invokeFunction('convertToInteractive',\n",
       "                                                    [key], {});\n",
       "        if (!dataTable) return;\n",
       "\n",
       "        const docLinkHtml = 'Like what you see? Visit the ' +\n",
       "          '<a target=\"_blank\" href=https://colab.research.google.com/notebooks/data_table.ipynb>data table notebook</a>'\n",
       "          + ' to learn more about interactive tables.';\n",
       "        element.innerHTML = '';\n",
       "        dataTable['output_type'] = 'display_data';\n",
       "        await google.colab.output.renderOutput(dataTable, element);\n",
       "        const docLink = document.createElement('div');\n",
       "        docLink.innerHTML = docLinkHtml;\n",
       "        element.appendChild(docLink);\n",
       "      }\n",
       "    </script>\n",
       "  </div>\n",
       "\n",
       "\n",
       "<div id=\"df-64e48c8f-76ac-4814-b55e-8dd605d09dd1\">\n",
       "  <button class=\"colab-df-quickchart\" onclick=\"quickchart('df-64e48c8f-76ac-4814-b55e-8dd605d09dd1')\"\n",
       "            title=\"Suggest charts\"\n",
       "            style=\"display:none;\">\n",
       "\n",
       "<svg xmlns=\"http://www.w3.org/2000/svg\" height=\"24px\"viewBox=\"0 0 24 24\"\n",
       "     width=\"24px\">\n",
       "    <g>\n",
       "        <path d=\"M19 3H5c-1.1 0-2 .9-2 2v14c0 1.1.9 2 2 2h14c1.1 0 2-.9 2-2V5c0-1.1-.9-2-2-2zM9 17H7v-7h2v7zm4 0h-2V7h2v10zm4 0h-2v-4h2v4z\"/>\n",
       "    </g>\n",
       "</svg>\n",
       "  </button>\n",
       "\n",
       "<style>\n",
       "  .colab-df-quickchart {\n",
       "      --bg-color: #E8F0FE;\n",
       "      --fill-color: #1967D2;\n",
       "      --hover-bg-color: #E2EBFA;\n",
       "      --hover-fill-color: #174EA6;\n",
       "      --disabled-fill-color: #AAA;\n",
       "      --disabled-bg-color: #DDD;\n",
       "  }\n",
       "\n",
       "  [theme=dark] .colab-df-quickchart {\n",
       "      --bg-color: #3B4455;\n",
       "      --fill-color: #D2E3FC;\n",
       "      --hover-bg-color: #434B5C;\n",
       "      --hover-fill-color: #FFFFFF;\n",
       "      --disabled-bg-color: #3B4455;\n",
       "      --disabled-fill-color: #666;\n",
       "  }\n",
       "\n",
       "  .colab-df-quickchart {\n",
       "    background-color: var(--bg-color);\n",
       "    border: none;\n",
       "    border-radius: 50%;\n",
       "    cursor: pointer;\n",
       "    display: none;\n",
       "    fill: var(--fill-color);\n",
       "    height: 32px;\n",
       "    padding: 0;\n",
       "    width: 32px;\n",
       "  }\n",
       "\n",
       "  .colab-df-quickchart:hover {\n",
       "    background-color: var(--hover-bg-color);\n",
       "    box-shadow: 0 1px 2px rgba(60, 64, 67, 0.3), 0 1px 3px 1px rgba(60, 64, 67, 0.15);\n",
       "    fill: var(--button-hover-fill-color);\n",
       "  }\n",
       "\n",
       "  .colab-df-quickchart-complete:disabled,\n",
       "  .colab-df-quickchart-complete:disabled:hover {\n",
       "    background-color: var(--disabled-bg-color);\n",
       "    fill: var(--disabled-fill-color);\n",
       "    box-shadow: none;\n",
       "  }\n",
       "\n",
       "  .colab-df-spinner {\n",
       "    border: 2px solid var(--fill-color);\n",
       "    border-color: transparent;\n",
       "    border-bottom-color: var(--fill-color);\n",
       "    animation:\n",
       "      spin 1s steps(1) infinite;\n",
       "  }\n",
       "\n",
       "  @keyframes spin {\n",
       "    0% {\n",
       "      border-color: transparent;\n",
       "      border-bottom-color: var(--fill-color);\n",
       "      border-left-color: var(--fill-color);\n",
       "    }\n",
       "    20% {\n",
       "      border-color: transparent;\n",
       "      border-left-color: var(--fill-color);\n",
       "      border-top-color: var(--fill-color);\n",
       "    }\n",
       "    30% {\n",
       "      border-color: transparent;\n",
       "      border-left-color: var(--fill-color);\n",
       "      border-top-color: var(--fill-color);\n",
       "      border-right-color: var(--fill-color);\n",
       "    }\n",
       "    40% {\n",
       "      border-color: transparent;\n",
       "      border-right-color: var(--fill-color);\n",
       "      border-top-color: var(--fill-color);\n",
       "    }\n",
       "    60% {\n",
       "      border-color: transparent;\n",
       "      border-right-color: var(--fill-color);\n",
       "    }\n",
       "    80% {\n",
       "      border-color: transparent;\n",
       "      border-right-color: var(--fill-color);\n",
       "      border-bottom-color: var(--fill-color);\n",
       "    }\n",
       "    90% {\n",
       "      border-color: transparent;\n",
       "      border-bottom-color: var(--fill-color);\n",
       "    }\n",
       "  }\n",
       "</style>\n",
       "\n",
       "  <script>\n",
       "    async function quickchart(key) {\n",
       "      const quickchartButtonEl =\n",
       "        document.querySelector('#' + key + ' button');\n",
       "      quickchartButtonEl.disabled = true;  // To prevent multiple clicks.\n",
       "      quickchartButtonEl.classList.add('colab-df-spinner');\n",
       "      try {\n",
       "        const charts = await google.colab.kernel.invokeFunction(\n",
       "            'suggestCharts', [key], {});\n",
       "      } catch (error) {\n",
       "        console.error('Error during call to suggestCharts:', error);\n",
       "      }\n",
       "      quickchartButtonEl.classList.remove('colab-df-spinner');\n",
       "      quickchartButtonEl.classList.add('colab-df-quickchart-complete');\n",
       "    }\n",
       "    (() => {\n",
       "      let quickchartButtonEl =\n",
       "        document.querySelector('#df-64e48c8f-76ac-4814-b55e-8dd605d09dd1 button');\n",
       "      quickchartButtonEl.style.display =\n",
       "        google.colab.kernel.accessAllowed ? 'block' : 'none';\n",
       "    })();\n",
       "  </script>\n",
       "</div>\n",
       "\n",
       "    </div>\n",
       "  </div>\n"
      ],
      "text/plain": [
       "   Número de vistas de página  Usuarios nuevos  Usuarios  \\\n",
       "0                       200.0             23.0      23.0   \n",
       "1                        70.0             29.0      33.0   \n",
       "2                       323.0             20.0      27.0   \n",
       "3                       151.0             10.0      15.0   \n",
       "4                        37.0             12.0      13.0   \n",
       "\n",
       "   Número de sesiones por usuario  Sesiones  Argentina  Otros Paises  mobile  \\\n",
       "0                        1.217391      28.0      200.0           0.0    23.0   \n",
       "1                        1.121212      37.0       69.0           1.0    29.0   \n",
       "2                        1.333333      36.0      320.0           3.0    28.0   \n",
       "3                        1.200000      18.0      149.0           2.0    44.0   \n",
       "4                        1.153846      15.0       37.0           0.0    18.0   \n",
       "\n",
       "   desktop  tablet  ...  Social  Direct  Referral  \\\n",
       "0    177.0     0.0  ...     6.0   179.0       0.0   \n",
       "1     41.0     0.0  ...     7.0    45.0       0.0   \n",
       "2    295.0     0.0  ...     1.0   302.0       2.0   \n",
       "3    107.0     0.0  ...     0.0   145.0       0.0   \n",
       "4     19.0     0.0  ...    11.0    21.0       0.0   \n",
       "\n",
       "   Agrupación de canales predeterminada promedio  \\\n",
       "0                                          50.00   \n",
       "1                                          17.50   \n",
       "2                                          80.75   \n",
       "3                                          37.75   \n",
       "4                                           9.25   \n",
       "\n",
       "   Agrupación de canales predeterminada std  mediana_de_medianas   lag_90  \\\n",
       "0                                 74.669270            22.024332  32.2905   \n",
       "1                                 17.124544            22.024332  32.2905   \n",
       "2                                127.916720            22.024332  32.2905   \n",
       "3                                 61.969246            22.024332  32.2905   \n",
       "4                                  7.822244            22.024332  32.2905   \n",
       "\n",
       "     lag_180    lag_270   lag_360  \n",
       "0  33.648197  34.116962  34.36589  \n",
       "1  33.648197  34.116962  34.36589  \n",
       "2  33.648197  34.116962  34.36589  \n",
       "3  33.648197  34.116962  34.36589  \n",
       "4  33.648197  34.116962  34.36589  \n",
       "\n",
       "[5 rows x 34 columns]"
      ]
     },
     "execution_count": 5,
     "metadata": {},
     "output_type": "execute_result"
    }
   ],
   "source": [
    "#Reading the data set, parsing the dates and inferring the date format to date time. We also fill the Nan’s with 0.\n",
    "#agrego index_col=0 para solucionar Unnamed: 0 porque https://stackoverflow.com/questions/43983622/remove-unnamed-columns-in-pandas-dataframe\n",
    "dataset = read_csv(\"/content/drive/MyDrive/a Tesis de Grado/Tesis Versiones/tesis 2024/UA/tum transmedia/preprocesamiento/outlier/salidaCSV/salidaKNN2024_15Octubre.csv\", index_col=0)\n",
    "#dataset.fillna(0, inplace=True)//pasar nans a ceros\n",
    "#revisar lo que hago en el otro dataset\n",
    "print(dataset.size)\n",
    "print(dataset.columns)\n",
    "\n",
    "print(dataset.shape)\n",
    "print(dataset)\n",
    "dataset.head()"
   ]
  },
  {
   "cell_type": "code",
   "execution_count": 6,
   "metadata": {
    "colab": {
     "base_uri": "https://localhost:8080/"
    },
    "executionInfo": {
     "elapsed": 14,
     "status": "ok",
     "timestamp": 1729621996126,
     "user": {
      "displayName": "Enrique Gauto Sand",
      "userId": "16871957759988522994"
     },
     "user_tz": 180
    },
    "id": "sOjRbOPDo3UI",
    "outputId": "a8ab5181-23fb-4176-d3f3-1b375d7151ed"
   },
   "outputs": [
    {
     "name": "stdout",
     "output_type": "stream",
     "text": [
      "Index(['Número de vistas de página', 'Usuarios nuevos', 'Usuarios',\n",
      "       'Número de sesiones por usuario', 'Sesiones', 'Argentina',\n",
      "       'Otros Paises', 'mobile', 'desktop', 'tablet',\n",
      "       'Categoría de dispositivo promedio', 'Categoría de dispositivo std',\n",
      "       'Windows', 'Android', 'Linux', 'Macintosh',\n",
      "       'Sistema operativo (not set)', 'iOS', 'Windows Phone', 'Chrome OS',\n",
      "       'Tizen', 'Sistema operativo promedio', 'Sistema operativo std',\n",
      "       'Organic Search', 'Social', 'Direct', 'Referral',\n",
      "       'Agrupación de canales predeterminada promedio',\n",
      "       'Agrupación de canales predeterminada std', 'mediana_de_medianas',\n",
      "       'lag_90', 'lag_180', 'lag_270', 'lag_360'],\n",
      "      dtype='object')\n",
      "(1732, 34)\n",
      "   Número de vistas de página  Usuarios nuevos  Usuarios  \\\n",
      "0                       200.0             23.0      23.0   \n",
      "1                        70.0             29.0      33.0   \n",
      "2                       323.0             20.0      27.0   \n",
      "3                       151.0             10.0      15.0   \n",
      "4                        37.0             12.0      13.0   \n",
      "\n",
      "   Número de sesiones por usuario  Sesiones  Argentina  Otros Paises  mobile  \\\n",
      "0                        1.217391      28.0      200.0           0.0    23.0   \n",
      "1                        1.121212      37.0       69.0           1.0    29.0   \n",
      "2                        1.333333      36.0      320.0           3.0    28.0   \n",
      "3                        1.200000      18.0      149.0           2.0    44.0   \n",
      "4                        1.153846      15.0       37.0           0.0    18.0   \n",
      "\n",
      "   desktop  tablet  ...  Social  Direct  Referral  \\\n",
      "0    177.0     0.0  ...     6.0   179.0       0.0   \n",
      "1     41.0     0.0  ...     7.0    45.0       0.0   \n",
      "2    295.0     0.0  ...     1.0   302.0       2.0   \n",
      "3    107.0     0.0  ...     0.0   145.0       0.0   \n",
      "4     19.0     0.0  ...    11.0    21.0       0.0   \n",
      "\n",
      "   Agrupación de canales predeterminada promedio  \\\n",
      "0                                          50.00   \n",
      "1                                          17.50   \n",
      "2                                          80.75   \n",
      "3                                          37.75   \n",
      "4                                           9.25   \n",
      "\n",
      "   Agrupación de canales predeterminada std  mediana_de_medianas   lag_90  \\\n",
      "0                                 74.669270            22.024332  32.2905   \n",
      "1                                 17.124544            22.024332  32.2905   \n",
      "2                                127.916720            22.024332  32.2905   \n",
      "3                                 61.969246            22.024332  32.2905   \n",
      "4                                  7.822244            22.024332  32.2905   \n",
      "\n",
      "     lag_180    lag_270   lag_360  \n",
      "0  33.648197  34.116962  34.36589  \n",
      "1  33.648197  34.116962  34.36589  \n",
      "2  33.648197  34.116962  34.36589  \n",
      "3  33.648197  34.116962  34.36589  \n",
      "4  33.648197  34.116962  34.36589  \n",
      "\n",
      "[5 rows x 34 columns]\n"
     ]
    }
   ],
   "source": [
    "print(dataset.columns)\n",
    "print(dataset.shape)\n",
    "print(dataset.head())"
   ]
  },
  {
   "cell_type": "code",
   "execution_count": 7,
   "metadata": {
    "executionInfo": {
     "elapsed": 450,
     "status": "ok",
     "timestamp": 1729622013227,
     "user": {
      "displayName": "Enrique Gauto Sand",
      "userId": "16871957759988522994"
     },
     "user_tz": 180
    },
    "id": "hr0DqSWmdeHq"
   },
   "outputs": [],
   "source": [
    "#predictor Flag\n",
    "from copy import deepcopy\n",
    "from datetime import datetime as dt\n"
   ]
  },
  {
   "cell_type": "code",
   "execution_count": 8,
   "metadata": {
    "colab": {
     "base_uri": "https://localhost:8080/"
    },
    "executionInfo": {
     "elapsed": 20,
     "status": "ok",
     "timestamp": 1729622013662,
     "user": {
      "displayName": "Enrique Gauto Sand",
      "userId": "16871957759988522994"
     },
     "user_tz": 180
    },
    "id": "c2b5tLblc25b",
    "outputId": "9bacbd0c-a2e1-4f77-b7be-75ca32b90786"
   },
   "outputs": [
    {
     "data": {
      "text/plain": [
       "Index(['Número de vistas de página', 'Usuarios nuevos', 'Usuarios',\n",
       "       'Número de sesiones por usuario', 'Sesiones', 'Argentina',\n",
       "       'Otros Paises', 'mobile', 'desktop', 'tablet',\n",
       "       'Categoría de dispositivo promedio', 'Categoría de dispositivo std',\n",
       "       'Windows', 'Android', 'Linux', 'Macintosh',\n",
       "       'Sistema operativo (not set)', 'iOS', 'Windows Phone', 'Chrome OS',\n",
       "       'Tizen', 'Sistema operativo promedio', 'Sistema operativo std',\n",
       "       'Organic Search', 'Social', 'Direct', 'Referral',\n",
       "       'Agrupación de canales predeterminada promedio',\n",
       "       'Agrupación de canales predeterminada std', 'mediana_de_medianas',\n",
       "       'lag_90', 'lag_180', 'lag_270', 'lag_360', 'mediana Dispositivos',\n",
       "       'mediana Sistema operativo',\n",
       "       'mediana Agrupación de canales predeterminada'],\n",
       "      dtype='object')"
      ]
     },
     "execution_count": 8,
     "metadata": {},
     "output_type": "execute_result"
    }
   ],
   "source": [
    "# mediana\n",
    "dataset['mediana Dispositivos'] = dataset[['mobile', 'desktop', 'tablet']].median(axis=1)\n",
    "dataset['mediana Sistema operativo'] = dataset[['Windows', 'Android', 'Linux',\n",
    "       'Macintosh', 'Sistema operativo (not set)', 'iOS', 'Windows Phone',\n",
    "       'Chrome OS', 'Tizen']].median(axis=1)\n",
    "dataset['mediana Agrupación de canales predeterminada'] = dataset[['Organic Search', 'Social', 'Direct',\n",
    "       'Referral']].median(axis=1)\n",
    "dataset.columns"
   ]
  },
  {
   "cell_type": "code",
   "execution_count": 9,
   "metadata": {
    "colab": {
     "base_uri": "https://localhost:8080/"
    },
    "executionInfo": {
     "elapsed": 355,
     "status": "ok",
     "timestamp": 1729622032684,
     "user": {
      "displayName": "Enrique Gauto Sand",
      "userId": "16871957759988522994"
     },
     "user_tz": 180
    },
    "id": "UWcOZi1nkKPS",
    "outputId": "9f39fe85-1649-4553-ff15-25c91971750f"
   },
   "outputs": [
    {
     "name": "stdout",
     "output_type": "stream",
     "text": [
      "dataset.shape[0] 1732  dataset.shape[1] 37\n",
      "1385\n",
      "train_df (1384, 37)\n",
      "test_df (347, 37)\n",
      "test (347, 37) [ 0.00871402 -0.14021283  0.2288764  -0.16799092  0.20060153  0.04361935\n",
      "  0.2188709   0.2332113  -0.01120929 -0.22578507 -0.0351817  -0.26294698\n",
      "  0.12103626  0.31395778 -0.55639242 -0.46923259 -0.30084072 -0.68294761\n",
      " -0.10115871 -0.06812418 -0.09798831 -0.12350289 -0.08058452  0.15924994\n",
      " -0.91628676  0.33626983 -0.56664335 -0.05252464 -0.00556945  0.81887773\n",
      "  0.16583596 -2.79184921  1.91459302  1.32380886  0.50156743 -0.27082404\n",
      "  0.15564852]\n"
     ]
    },
    {
     "name": "stderr",
     "output_type": "stream",
     "text": [
      "<ipython-input-9-88b66e6ae03a>:22: SettingWithCopyWarning: \n",
      "A value is trying to be set on a copy of a slice from a DataFrame.\n",
      "Try using .loc[row_indexer,col_indexer] = value instead\n",
      "\n",
      "See the caveats in the documentation: https://pandas.pydata.org/pandas-docs/stable/user_guide/indexing.html#returning-a-view-versus-a-copy\n",
      "  train[column] = (train[column] - mean) / std\n",
      "<ipython-input-9-88b66e6ae03a>:32: SettingWithCopyWarning: \n",
      "A value is trying to be set on a copy of a slice from a DataFrame.\n",
      "Try using .loc[row_indexer,col_indexer] = value instead\n",
      "\n",
      "See the caveats in the documentation: https://pandas.pydata.org/pandas-docs/stable/user_guide/indexing.html#returning-a-view-versus-a-copy\n",
      "  test[column1] = (test[column1] - mean_train) / std_train\n"
     ]
    }
   ],
   "source": [
    "#115*0.75 = 86.25=86\n",
    "#train_df,test_df = dataset[1:86], dataset[86:]\n",
    "# parrtir en 80 - 20 segun la profe\n",
    "# probar sin normalizar los datos, es decir sin escalarlos\n",
    "#normalizar\n",
    "#partir datos de entrenamiento y prueba\n",
    "#dataset.shape[0]=1734 o es 115 en caso del ejemplo\n",
    "print('dataset.shape[0]',dataset.shape[0],' dataset.shape[1]',dataset.shape[1])\n",
    "formaFinal=int(dataset.shape[0]*0.80)#80% para train y 20% para test\n",
    "print(formaFinal)\n",
    "train_df,test_df = dataset[1:formaFinal], dataset[formaFinal:] #spliteo test/train\n",
    "train = train_df\n",
    "test = test_df\n",
    "# Normalización del conjunto de entrenamiento\n",
    "train_previo_log1p=deepcopy(train)\n",
    "for column in train.columns:\n",
    "    train.loc[:, column] = np.log1p(train[column])\n",
    "train_previo_zscore = deepcopy(train)\n",
    "for column in train.columns:\n",
    "    mean = train[column].mean()  # Media del conjunto de entrenamiento\n",
    "    std = train[column].std()    # Desviación estándar del conjunto de entrenamiento\n",
    "    train[column] = (train[column] - mean) / std\n",
    "test_previo_log1p=deepcopy(test)\n",
    "for column1 in test.columns:\n",
    "    test.loc[:, column1] = np.log1p(test[column1])\n",
    "# Normalización del conjunto de prueba\n",
    "test_previo_zscore = deepcopy(test)\n",
    "for column1 in test.columns:\n",
    "    mean_train = train_previo_zscore[column1].mean()  # Media del conjunto de entrenamiento\n",
    "    std_train = train_previo_zscore[column1].std()    # Desviación estándar del conjunto de entrenamiento\n",
    "    if std_train != 0:\n",
    "        test[column1] = (test[column1] - mean_train) / std_train\n",
    "    else:\n",
    "        test[column1] = 0  \n",
    "\n",
    "print('train_df',train_df.shape)\n",
    "print('test_df',test_df.shape)\n",
    "print('test',test.shape,test.values[11])\n"
   ]
  },
  {
   "cell_type": "code",
   "execution_count": 10,
   "metadata": {
    "colab": {
     "base_uri": "https://localhost:8080/",
     "height": 128
    },
    "executionInfo": {
     "elapsed": 382,
     "status": "ok",
     "timestamp": 1729622038105,
     "user": {
      "displayName": "Enrique Gauto Sand",
      "userId": "16871957759988522994"
     },
     "user_tz": 180
    },
    "id": "E0cDBvC1ezm9",
    "outputId": "0c3ae319-2a57-47e0-8985-ca21c786524d"
   },
   "outputs": [
    {
     "data": {
      "application/vnd.google.colaboratory.intrinsic+json": {
       "type": "string"
      },
      "text/plain": [
       "\"\\nn_past = 50 #va a mirar 10 dias al pasado para predecir x dias a futuro\\nn_future = 7 #anterior 5 #probar 7 dias a futuro\\nn_features = dataset.shape[1] # Columnas totales del dataset\\n\\n#Now convert both the train and test data into samples using the split_series function.\\n\\nX_train, y_train = split_series(train.values,n_past, n_future)\\nX_train = X_train.reshape((X_train.shape[0], X_train.shape[1],n_features))\\n#y_train = y_train.reshape((y_train.shape[0], y_train.shape[1], n_features))\\ny_train = y_train.reshape((y_train.shape[0], y_train.shape[1], 1)) #no hace falta reshapear\\nX_test, y_test = split_series(test.values,n_past, n_future)\\nX_test = X_test.reshape((X_test.shape[0], X_test.shape[1],n_features))\\n#y_test = y_test.reshape((y_test.shape[0], y_test.shape[1], n_features))\\ny_test = y_test.reshape((y_test.shape[0], y_test.shape[1], 1)) #no hace falta reshapear\\nprint('X_train',X_train.shape,X_train)\\nprint('y_train',y_train.shape,y_train)\\nprint('X_test',X_test.shape,X_test)\\nprint('y_test',y_test.shape,y_test)\\n\""
      ]
     },
     "execution_count": 10,
     "metadata": {},
     "output_type": "execute_result"
    }
   ],
   "source": [
    "#reshape a entrada\n",
    "\n",
    "def split_series(series, n_past, n_future):\n",
    "  #\n",
    "  # n_past ==> no of past observations\n",
    "  #\n",
    "  # n_future ==> no of future observations\n",
    "  #\n",
    "  X, y = list(), list()\n",
    "  for window_start in range(len(series)):\n",
    "    past_end = window_start + n_past\n",
    "    future_end = past_end + n_future\n",
    "    if future_end > len(series):\n",
    "      break\n",
    "    # slicing the past and future parts of the window\n",
    "    #past, future = series[window_start:past_end, :], series[past_end:future_end, :]\n",
    "    #window_start cuando comienza  past_end es cuando termina y future_endes cuando termina las series a comparar, 0 es porque solo va a tomar la primera columna\n",
    "    #la cual es la de total de vistas\n",
    "    past, future = series[window_start:past_end, :], series[past_end:future_end, 0]\n",
    "    X.append(past)\n",
    "    y.append(future)\n",
    "  return np.array(X), np.array(y)\n",
    "\n"
   ]
  },
  {
   "cell_type": "code",
   "execution_count": 11,
   "metadata": {
    "executionInfo": {
     "elapsed": 2370,
     "status": "ok",
     "timestamp": 1729622043886,
     "user": {
      "displayName": "Enrique Gauto Sand",
      "userId": "16871957759988522994"
     },
     "user_tz": 180
    },
    "id": "LIaNYGWBlHSp"
   },
   "outputs": [],
   "source": [
    "!pip install keras-tuner -q"
   ]
  },
  {
   "cell_type": "code",
   "execution_count": 12,
   "metadata": {
    "colab": {
     "base_uri": "https://localhost:8080/"
    },
    "executionInfo": {
     "elapsed": 30,
     "status": "ok",
     "timestamp": 1729622043887,
     "user": {
      "displayName": "Enrique Gauto Sand",
      "userId": "16871957759988522994"
     },
     "user_tz": 180
    },
    "id": "fFnOW28qQVeF",
    "outputId": "43f37caa-c89e-44e1-97ad-e514a82d9d9a"
   },
   "outputs": [
    {
     "name": "stdout",
     "output_type": "stream",
     "text": [
      "Filesystem      Size  Used Avail Use% Mounted on\n",
      "overlay         236G   35G  202G  15% /\n",
      "tmpfs            64M     0   64M   0% /dev\n",
      "shm             5.7G     0  5.7G   0% /dev/shm\n",
      "/dev/root       2.0G  1.2G  820M  59% /usr/sbin/docker-init\n",
      "/dev/sda1       242G   59G  184G  25% /opt/bin/.nvidia\n",
      "tmpfs           6.4G  524K  6.4G   1% /var/colab\n",
      "tmpfs           6.4G     0  6.4G   0% /proc/acpi\n",
      "tmpfs           6.4G     0  6.4G   0% /proc/scsi\n",
      "tmpfs           6.4G     0  6.4G   0% /sys/firmware\n",
      "drive           100G   56G   45G  56% /content/drive\n"
     ]
    }
   ],
   "source": [
    "!df -h"
   ]
  },
  {
   "cell_type": "code",
   "execution_count": 13,
   "metadata": {
    "colab": {
     "base_uri": "https://localhost:8080/"
    },
    "executionInfo": {
     "elapsed": 22,
     "status": "ok",
     "timestamp": 1729622043888,
     "user": {
      "displayName": "Enrique Gauto Sand",
      "userId": "16871957759988522994"
     },
     "user_tz": 180
    },
    "id": "8HaGV6nQQgA5",
    "outputId": "c48ed747-b459-45b0-bc63-ef6849e46900"
   },
   "outputs": [
    {
     "name": "stdout",
     "output_type": "stream",
     "text": [
      "processor\t: 0\n",
      "vendor_id\t: GenuineIntel\n",
      "cpu family\t: 6\n",
      "model\t\t: 85\n",
      "model name\t: Intel(R) Xeon(R) CPU @ 2.00GHz\n",
      "stepping\t: 3\n",
      "microcode\t: 0xffffffff\n",
      "cpu MHz\t\t: 2000.156\n",
      "cache size\t: 39424 KB\n",
      "physical id\t: 0\n",
      "siblings\t: 2\n",
      "core id\t\t: 0\n",
      "cpu cores\t: 1\n",
      "apicid\t\t: 0\n",
      "initial apicid\t: 0\n",
      "fpu\t\t: yes\n",
      "fpu_exception\t: yes\n",
      "cpuid level\t: 13\n",
      "wp\t\t: yes\n",
      "flags\t\t: fpu vme de pse tsc msr pae mce cx8 apic sep mtrr pge mca cmov pat pse36 clflush mmx fxsr sse sse2 ss ht syscall nx pdpe1gb rdtscp lm constant_tsc rep_good nopl xtopology nonstop_tsc cpuid tsc_known_freq pni pclmulqdq ssse3 fma cx16 pcid sse4_1 sse4_2 x2apic movbe popcnt aes xsave avx f16c rdrand hypervisor lahf_lm abm 3dnowprefetch invpcid_single ssbd ibrs ibpb stibp fsgsbase tsc_adjust bmi1 hle avx2 smep bmi2 erms invpcid rtm mpx avx512f avx512dq rdseed adx smap clflushopt clwb avx512cd avx512bw avx512vl xsaveopt xsavec xgetbv1 xsaves arat md_clear arch_capabilities\n",
      "bugs\t\t: cpu_meltdown spectre_v1 spectre_v2 spec_store_bypass l1tf mds swapgs taa mmio_stale_data retbleed bhi\n",
      "bogomips\t: 4000.31\n",
      "clflush size\t: 64\n",
      "cache_alignment\t: 64\n",
      "address sizes\t: 46 bits physical, 48 bits virtual\n",
      "power management:\n",
      "\n",
      "processor\t: 1\n",
      "vendor_id\t: GenuineIntel\n",
      "cpu family\t: 6\n",
      "model\t\t: 85\n",
      "model name\t: Intel(R) Xeon(R) CPU @ 2.00GHz\n",
      "stepping\t: 3\n",
      "microcode\t: 0xffffffff\n",
      "cpu MHz\t\t: 2000.156\n",
      "cache size\t: 39424 KB\n",
      "physical id\t: 0\n",
      "siblings\t: 2\n",
      "core id\t\t: 0\n",
      "cpu cores\t: 1\n",
      "apicid\t\t: 1\n",
      "initial apicid\t: 1\n",
      "fpu\t\t: yes\n",
      "fpu_exception\t: yes\n",
      "cpuid level\t: 13\n",
      "wp\t\t: yes\n",
      "flags\t\t: fpu vme de pse tsc msr pae mce cx8 apic sep mtrr pge mca cmov pat pse36 clflush mmx fxsr sse sse2 ss ht syscall nx pdpe1gb rdtscp lm constant_tsc rep_good nopl xtopology nonstop_tsc cpuid tsc_known_freq pni pclmulqdq ssse3 fma cx16 pcid sse4_1 sse4_2 x2apic movbe popcnt aes xsave avx f16c rdrand hypervisor lahf_lm abm 3dnowprefetch invpcid_single ssbd ibrs ibpb stibp fsgsbase tsc_adjust bmi1 hle avx2 smep bmi2 erms invpcid rtm mpx avx512f avx512dq rdseed adx smap clflushopt clwb avx512cd avx512bw avx512vl xsaveopt xsavec xgetbv1 xsaves arat md_clear arch_capabilities\n",
      "bugs\t\t: cpu_meltdown spectre_v1 spectre_v2 spec_store_bypass l1tf mds swapgs taa mmio_stale_data retbleed bhi\n",
      "bogomips\t: 4000.31\n",
      "clflush size\t: 64\n",
      "cache_alignment\t: 64\n",
      "address sizes\t: 46 bits physical, 48 bits virtual\n",
      "power management:\n",
      "\n"
     ]
    }
   ],
   "source": [
    "!cat /proc/cpuinfo"
   ]
  },
  {
   "cell_type": "code",
   "execution_count": null,
   "metadata": {
    "colab": {
     "base_uri": "https://localhost:8080/"
    },
    "executionInfo": {
     "elapsed": 41,
     "status": "ok",
     "timestamp": 1729028062288,
     "user": {
      "displayName": "Enrique Gauto Sand",
      "userId": "16871957759988522994"
     },
     "user_tz": 180
    },
    "id": "Odwvrw9QQiXs",
    "outputId": "1fa3d8dd-a4cd-4de5-febd-0e3057317409"
   },
   "outputs": [
    {
     "name": "stdout",
     "output_type": "stream",
     "text": [
      "MemTotal:       13290460 kB\n",
      "MemFree:          251916 kB\n",
      "MemAvailable:   10160496 kB\n",
      "Buffers:          561436 kB\n",
      "Cached:          9274572 kB\n",
      "SwapCached:            0 kB\n",
      "Active:          1612276 kB\n",
      "Inactive:       10634496 kB\n",
      "Active(anon):       2268 kB\n",
      "Inactive(anon):  2433896 kB\n",
      "Active(file):    1610008 kB\n",
      "Inactive(file):  8200600 kB\n",
      "Unevictable:          20 kB\n",
      "Mlocked:              20 kB\n",
      "SwapTotal:             0 kB\n",
      "SwapFree:              0 kB\n",
      "Dirty:              2040 kB\n",
      "Writeback:             0 kB\n",
      "AnonPages:       2410836 kB\n",
      "Mapped:           994624 kB\n",
      "Shmem:             25388 kB\n",
      "KReclaimable:     423376 kB\n",
      "Slab:             506296 kB\n",
      "SReclaimable:     423376 kB\n",
      "SUnreclaim:        82920 kB\n",
      "KernelStack:        8352 kB\n",
      "PageTables:        32156 kB\n",
      "SecPageTables:         0 kB\n",
      "NFS_Unstable:          0 kB\n",
      "Bounce:                0 kB\n",
      "WritebackTmp:          0 kB\n",
      "CommitLimit:     6645228 kB\n",
      "Committed_AS:    5316244 kB\n",
      "VmallocTotal:   34359738367 kB\n",
      "VmallocUsed:       86516 kB\n",
      "VmallocChunk:          0 kB\n",
      "Percpu:             1144 kB\n",
      "HardwareCorrupted:     0 kB\n",
      "AnonHugePages:    215040 kB\n",
      "ShmemHugePages:        0 kB\n",
      "ShmemPmdMapped:        0 kB\n",
      "FileHugePages:         0 kB\n",
      "FilePmdMapped:         0 kB\n",
      "CmaTotal:              0 kB\n",
      "CmaFree:               0 kB\n",
      "Unaccepted:            0 kB\n",
      "HugePages_Total:       0\n",
      "HugePages_Free:        0\n",
      "HugePages_Rsvd:        0\n",
      "HugePages_Surp:        0\n",
      "Hugepagesize:       2048 kB\n",
      "Hugetlb:               0 kB\n",
      "DirectMap4k:      281400 kB\n",
      "DirectMap2M:    10201088 kB\n",
      "DirectMap1G:     5242880 kB\n"
     ]
    }
   ],
   "source": [
    "!cat /proc/meminfo"
   ]
  },
  {
   "cell_type": "code",
   "execution_count": null,
   "metadata": {
    "colab": {
     "base_uri": "https://localhost:8080/"
    },
    "executionInfo": {
     "elapsed": 33,
     "status": "ok",
     "timestamp": 1729028062289,
     "user": {
      "displayName": "Enrique Gauto Sand",
      "userId": "16871957759988522994"
     },
     "user_tz": 180
    },
    "id": "LQXAJjUcgCiu",
    "outputId": "10f3ce93-438d-40e4-d511-4a2b2096fb78"
   },
   "outputs": [
    {
     "name": "stdout",
     "output_type": "stream",
     "text": [
      "nvcc: NVIDIA (R) Cuda compiler driver\n",
      "Copyright (c) 2005-2023 NVIDIA Corporation\n",
      "Built on Tue_Aug_15_22:02:13_PDT_2023\n",
      "Cuda compilation tools, release 12.2, V12.2.140\n",
      "Build cuda_12.2.r12.2/compiler.33191640_0\n"
     ]
    }
   ],
   "source": [
    "!/usr/local/cuda/bin/nvcc --version\n",
    "\n"
   ]
  },
  {
   "cell_type": "code",
   "execution_count": null,
   "metadata": {
    "colab": {
     "base_uri": "https://localhost:8080/"
    },
    "executionInfo": {
     "elapsed": 25,
     "status": "ok",
     "timestamp": 1729028062290,
     "user": {
      "displayName": "Enrique Gauto Sand",
      "userId": "16871957759988522994"
     },
     "user_tz": 180
    },
    "id": "JvgOMQ8phipZ",
    "outputId": "fc2c20c1-4e31-4ba8-9a30-9b51a95c5e4f"
   },
   "outputs": [
    {
     "name": "stdout",
     "output_type": "stream",
     "text": [
      "/opt/bin/nvidia-smi\n"
     ]
    }
   ],
   "source": [
    "!which nvidia-smi"
   ]
  },
  {
   "cell_type": "code",
   "execution_count": null,
   "metadata": {
    "colab": {
     "base_uri": "https://localhost:8080/"
    },
    "executionInfo": {
     "elapsed": 795,
     "status": "ok",
     "timestamp": 1729028063069,
     "user": {
      "displayName": "Enrique Gauto Sand",
      "userId": "16871957759988522994"
     },
     "user_tz": 180
    },
    "id": "Er3VxmbjgIqA",
    "outputId": "51c9f303-7ca7-4cf9-8490-c1169a2a8573"
   },
   "outputs": [
    {
     "name": "stdout",
     "output_type": "stream",
     "text": [
      "Tue Oct 15 21:34:22 2024       \n",
      "+---------------------------------------------------------------------------------------+\n",
      "| NVIDIA-SMI 535.104.05             Driver Version: 535.104.05   CUDA Version: 12.2     |\n",
      "|-----------------------------------------+----------------------+----------------------+\n",
      "| GPU  Name                 Persistence-M | Bus-Id        Disp.A | Volatile Uncorr. ECC |\n",
      "| Fan  Temp   Perf          Pwr:Usage/Cap |         Memory-Usage | GPU-Util  Compute M. |\n",
      "|                                         |                      |               MIG M. |\n",
      "|=========================================+======================+======================|\n",
      "|   0  Tesla T4                       Off | 00000000:00:04.0 Off |                    0 |\n",
      "| N/A   70C    P0              29W /  70W |    643MiB / 15360MiB |      0%      Default |\n",
      "|                                         |                      |                  N/A |\n",
      "+-----------------------------------------+----------------------+----------------------+\n",
      "                                                                                         \n",
      "+---------------------------------------------------------------------------------------+\n",
      "| Processes:                                                                            |\n",
      "|  GPU   GI   CI        PID   Type   Process name                            GPU Memory |\n",
      "|        ID   ID                                                             Usage      |\n",
      "|=======================================================================================|\n",
      "+---------------------------------------------------------------------------------------+\n"
     ]
    }
   ],
   "source": [
    "!nvidia-smi"
   ]
  },
  {
   "cell_type": "code",
   "execution_count": 15,
   "metadata": {
    "colab": {
     "base_uri": "https://localhost:8080/"
    },
    "executionInfo": {
     "elapsed": 468,
     "status": "ok",
     "timestamp": 1729622049690,
     "user": {
      "displayName": "Enrique Gauto Sand",
      "userId": "16871957759988522994"
     },
     "user_tz": 180
    },
    "id": "JoKcuGu6V-wv",
    "outputId": "f08be8c6-1298-4758-d830-7d91ef398b47"
   },
   "outputs": [
    {
     "name": "stdout",
     "output_type": "stream",
     "text": [
      "Python 3.10.12\n"
     ]
    }
   ],
   "source": [
    "!python --version"
   ]
  },
  {
   "cell_type": "code",
   "execution_count": 14,
   "metadata": {
    "colab": {
     "base_uri": "https://localhost:8080/"
    },
    "executionInfo": {
     "elapsed": 733,
     "status": "ok",
     "timestamp": 1729622048783,
     "user": {
      "displayName": "Enrique Gauto Sand",
      "userId": "16871957759988522994"
     },
     "user_tz": 180
    },
    "id": "xvgfb_DCWRZq",
    "outputId": "8340a6ea-47ac-4e95-8e12-9ecdef2ca32c"
   },
   "outputs": [
    {
     "name": "stdout",
     "output_type": "stream",
     "text": [
      "2.15.0\n",
      "2.1.4\n",
      "1.26.4\n",
      "1.4.7\n"
     ]
    }
   ],
   "source": [
    "import keras_tuner as kt\n",
    "import datetime\n",
    "from datetime import timedelta\n",
    "from pytz import timezone\n",
    "import tensorflow.keras.backend as K\n",
    "import datetime\n",
    "from datetime import timedelta\n",
    "from pytz import timezone\n",
    "print(tf. __version__)\n",
    "print(pd. __version__)\n",
    "print(np. __version__)\n",
    "print(kt. __version__)"
   ]
  },
  {
   "cell_type": "code",
   "execution_count": 16,
   "metadata": {
    "executionInfo": {
     "elapsed": 8,
     "status": "ok",
     "timestamp": 1729622050939,
     "user": {
      "displayName": "Enrique Gauto Sand",
      "userId": "16871957759988522994"
     },
     "user_tz": 180
    },
    "id": "IEcH_JoID26Z"
   },
   "outputs": [],
   "source": [
    "# Establecer la semilla\n",
    "seed_value = 42\n",
    "import random  \n",
    "# Establecer semillas\n",
    "np.random.seed(seed_value)\n",
    "random.seed(seed_value)\n",
    "tf.random.set_seed(seed_value)"
   ]
  },
  {
   "cell_type": "code",
   "execution_count": null,
   "metadata": {
    "colab": {
     "base_uri": "https://localhost:8080/"
    },
    "executionInfo": {
     "elapsed": 367,
     "status": "ok",
     "timestamp": 1729195350391,
     "user": {
      "displayName": "Enrique Gauto Sand",
      "userId": "16871957759988522994"
     },
     "user_tz": 180
    },
    "id": "z8GquKeREqhF",
    "outputId": "8438c024-d7a4-441f-af50-86dc0ec812f4"
   },
   "outputs": [
    {
     "name": "stdout",
     "output_type": "stream",
     "text": [
      "std 46.969185436927425\n",
      "mean 34.23988439306358\n"
     ]
    }
   ],
   "source": [
    "print('std',train_previo_zscore['Número de vistas de página'].std())\n",
    "print('mean',train_previo_zscore['Número de vistas de página'].mean() )"
   ]
  },
  {
   "cell_type": "code",
   "execution_count": 19,
   "metadata": {
    "executionInfo": {
     "elapsed": 354,
     "status": "ok",
     "timestamp": 1729622130009,
     "user": {
      "displayName": "Enrique Gauto Sand",
      "userId": "16871957759988522994"
     },
     "user_tz": 180
    },
    "id": "ZcojDc_fEpK4"
   },
   "outputs": [],
   "source": [
    "from tensorflow.keras.saving import register_keras_serializable\n",
    "media_train=train_previo_zscore['Número de vistas de página'].std()\n",
    "std_train=train_previo_zscore['Número de vistas de página'].mean()\n",
    "#esta metrica esta en el codigo de github del ganador\n",
    "@register_keras_serializable()\n",
    "def smape_loss(y_true, y_pred):\n",
    "    #revierto zscore\n",
    "    global media_train\n",
    "    global std_train\n",
    "    y_true=(y_true*std_train)+media_train\n",
    "    y_pred=(y_pred*std_train)+media_train\n",
    "    #revierto log1p\n",
    "    y_true=tf.math.expm1(y_true)\n",
    "    y_pred=tf.math.expm1(y_pred)\n",
    "    epsilon = 0.1\n",
    "    y_pred = tf.convert_to_tensor(y_pred)\n",
    "    y_true = tf.cast(y_true, y_pred.dtype)\n",
    "    # Calcular el denominador de SMAPE\n",
    "    summ = tf.maximum(tf.abs(y_true) + tf.abs(y_pred) + epsilon, 0.5 + epsilon)\n",
    "\n",
    "    # Calcular SMAPE\n",
    "    smape = tf.abs(y_pred - y_true) / summ * 2.0\n",
    "\n",
    "    # Retornar la media de SMAPE\n",
    "    return K.mean(smape, axis=-1)\n",
    "\n",
    "@register_keras_serializable()\n",
    "def mae_denorm(y_true, y_pred):\n",
    "    #revierto zscore\n",
    "    global media_train\n",
    "    global std_train\n",
    "    y_true1=(y_true*std_train)+media_train\n",
    "    y_pred1=(y_pred*std_train)+media_train\n",
    "    #revierto log1p\n",
    "    y_true2=tf.math.expm1(y_true1)\n",
    "    y_pred2=tf.math.expm1(y_pred1)\n",
    "\n",
    "    return tf.keras.losses.mean_absolute_error(y_true2, y_pred2)"
   ]
  },
  {
   "cell_type": "code",
   "execution_count": 20,
   "metadata": {
    "executionInfo": {
     "elapsed": 358,
     "status": "ok",
     "timestamp": 1729622210586,
     "user": {
      "displayName": "Enrique Gauto Sand",
      "userId": "16871957759988522994"
     },
     "user_tz": 180
    },
    "id": "rUhuu9nA9yLP"
   },
   "outputs": [],
   "source": [
    "from tensorflow.keras.saving import register_keras_serializable\n",
    "media_train=train_previo_zscore['Número de vistas de página'].std()\n",
    "std_train=train_previo_zscore['Número de vistas de página'].mean()\n",
    "#esta metrica esta en el codigo de github del ganador\n",
    "@register_keras_serializable()\n",
    "def smape_loss(y_true, y_pred):\n",
    "    #revierto zscore\n",
    "    global media_train\n",
    "    global std_train\n",
    "    y_true=(y_true*std_train)+media_train\n",
    "    y_pred=(y_pred*std_train)+media_train\n",
    "    #revierto log1p\n",
    "    y_true=tf.math.expm1(y_true)\n",
    "    y_pred=tf.math.expm1(y_pred)\n",
    "    epsilon = 0.1\n",
    "    y_pred = tf.convert_to_tensor(y_pred)\n",
    "    y_true = tf.cast(y_true, y_pred.dtype)\n",
    "    # Calcular el denominador de SMAPE\n",
    "    summ = tf.maximum(tf.abs(y_true) + tf.abs(y_pred) + epsilon, 0.5 + epsilon)\n",
    "\n",
    "    # Calcular SMAPE\n",
    "    smape = tf.abs(y_pred - y_true) / summ * 2.0\n",
    "\n",
    "    # Retornar la media de SMAPE\n",
    "    return K.mean(smape, axis=-1)\n",
    "\n",
    "@register_keras_serializable()\n",
    "def mae_denorm(y_true, y_pred):\n",
    "    #revierto zscore\n",
    "    global media_train\n",
    "    global std_train\n",
    "    y_true1=(y_true*std_train)+media_train\n",
    "    y_pred1=(y_pred*std_train)+media_train\n",
    "    #revierto log1p\n",
    "    y_true2=tf.math.expm1(y_true1)\n",
    "    y_pred2=tf.math.expm1(y_pred1)\n",
    "\n",
    "    return tf.keras.losses.mean_absolute_error(y_true2, y_pred2)"
   ]
  },
  {
   "cell_type": "code",
   "execution_count": 22,
   "metadata": {
    "colab": {
     "base_uri": "https://localhost:8080/"
    },
    "executionInfo": {
     "elapsed": 850,
     "status": "ok",
     "timestamp": 1729622240554,
     "user": {
      "displayName": "Enrique Gauto Sand",
      "userId": "16871957759988522994"
     },
     "user_tz": 180
    },
    "id": "8sop97_ay6uG",
    "outputId": "846259d8-3b8f-4340-ac3d-758365f40f42"
   },
   "outputs": [
    {
     "name": "stdout",
     "output_type": "stream",
     "text": [
      "Tiempo  Inicio y n_past 2024-10-22 15:37:19   n_past:--> 60\n"
     ]
    }
   ],
   "source": [
    "#el mejor modelo de verdad\n",
    "pathModelosJsonMejor=\"/content/drive/MyDrive/a Tesis de Grado/Tesis Versiones/tesis 2024/UA/tum transmedia/modelos/modelos resultados/mejores modelos guardados/modelo\"\n",
    "nombreMejorModeloMejor=\"/ ndays60hyperband mae 60 zscore.h5\"#el mejor modelo es el hyperband de 28 dias y 107 época\n",
    "n_past=60\n",
    "cambio=datetime.datetime.now(timezone('UTC')) - timedelta(hours=3)\n",
    "tiempoFinal=f\"{cambio:%Y-%m-%d %H:%M:%S }\"\n",
    "print('Tiempo  Inicio y n_past',tiempoFinal , ' n_past:-->',n_past)\n",
    "n_future = 60\n",
    "n_features = train.shape[1]\n",
    "X_train, y_train = split_series(train.values,n_past, n_future)\n",
    "X_train = X_train.reshape((X_train.shape[0], X_train.shape[1],n_features))\n",
    "y_train = y_train.reshape((y_train.shape[0], y_train.shape[1], 1)) #no hace falta reshapear\n",
    "X_test, y_test = split_series(test.values,n_past, n_future)\n",
    "X_test = X_test.reshape((X_test.shape[0], X_test.shape[1],n_features))\n",
    "y_test = y_test.reshape((y_test.shape[0], y_test.shape[1], 1)) #no hace falta reshapear\n",
    "\n",
    "reconstructed_model3 = tf.keras.models.load_model(pathModelosJsonMejor+nombreMejorModeloMejor,custom_objects={'smape_loss':smape_loss,'mae_denorm':mae_denorm})"
   ]
  },
  {
   "cell_type": "code",
   "execution_count": 23,
   "metadata": {
    "colab": {
     "base_uri": "https://localhost:8080/"
    },
    "executionInfo": {
     "elapsed": 2040,
     "status": "ok",
     "timestamp": 1729622245564,
     "user": {
      "displayName": "Enrique Gauto Sand",
      "userId": "16871957759988522994"
     },
     "user_tz": 180
    },
    "id": "pHYvZwDNzRCB",
    "outputId": "fbc35b0d-5fd3-41ba-d09f-fdde6e724402"
   },
   "outputs": [
    {
     "name": "stdout",
     "output_type": "stream",
     "text": [
      "Evaluate on test data\n",
      "1/1 [==============================] - 2s 2s/step - loss: 0.6210 - smape_loss: 0.9866 - mae_denorm: 15.6760\n",
      "test loss [0.6209958791732788, 0.9866176247596741, 15.675966262817383]\n"
     ]
    }
   ],
   "source": [
    "print(\"Evaluate on test data\")\n",
    "results = reconstructed_model3.evaluate(X_test,y_test, batch_size=256)\n",
    "print(\"test loss\", results)"
   ]
  },
  {
   "cell_type": "code",
   "execution_count": 32,
   "metadata": {
    "colab": {
     "base_uri": "https://localhost:8080/"
    },
    "executionInfo": {
     "elapsed": 376,
     "status": "ok",
     "timestamp": 1729622924963,
     "user": {
      "displayName": "Enrique Gauto Sand",
      "userId": "16871957759988522994"
     },
     "user_tz": 180
    },
    "id": "FcDHRAmR1cGg",
    "outputId": "b03878a0-f55f-4f7c-cb3e-d39daa05caf2",
    "scrolled": true
   },
   "outputs": [
    {
     "name": "stdout",
     "output_type": "stream",
     "text": [
      "8/8 [==============================] - 0s 9ms/step\n",
      "(228, 60, 1) (228, 60)\n",
      "y_test (228, 60, 1) (228, 60)\n",
      "(13680, 1)\n",
      "len(a) 13680\n",
      "a [[34.]\n",
      " [ 6.]\n",
      " [ 4.]\n",
      " ...\n",
      " [62.]\n",
      " [34.]\n",
      " [81.]]\n",
      "f [[26.]\n",
      " [21.]\n",
      " [21.]\n",
      " ...\n",
      " [42.]\n",
      " [42.]\n",
      " [42.]]\n",
      "smape 0.5977127357014901\n",
      "len(a) 13680\n",
      "mae 11.126461988304094\n",
      "len(a) 13680\n",
      "rmse 16.491247900324023\n",
      "(13680,)\n",
      "(3,)\n",
      "[ 0.22798124 -0.00128848 -0.00795936 ...  0.71159965  0.71519536\n",
      "  0.7186373 ]\n"
     ]
    }
   ],
   "source": [
    "pred_e1d1=reconstructed_model3.predict(X_test)\n",
    "pred_e1d1=deepcopy(pred_e1d1)\n",
    "reshapePred=pred_e1d1.reshape((pred_e1d1.shape[0]*pred_e1d1.shape[2]),pred_e1d1.shape[1])\n",
    "reshapeY_test=y_test.reshape((y_test.shape[0]*y_test.shape[2]),y_test.shape[1])\n",
    "print(pred_e1d1.shape,reshapePred.shape)\n",
    "print('y_test',y_test.shape,reshapeY_test.shape)\n",
    "def smape2(a, f):\n",
    "    print('len(a)',len(a))\n",
    "\n",
    "    #std=train_previo_zscore['Predictor Flag'].std()\n",
    "    #media=train_previo_zscore['Predictor Flag'].mean()\n",
    "    std=train_previo_zscore['Número de vistas de página'].std()\n",
    "    media=train_previo_zscore['Número de vistas de página'].mean()\n",
    "    #revierto zscore\n",
    "    a=(a*std)+media\n",
    "    f=(f*std)+media\n",
    "\n",
    "    a=np.round(np.expm1(a))\n",
    "    f=np.round(np.expm1(f))\n",
    "    print('a',a)\n",
    "    print('f',f)\n",
    "    return (1/len(a) * np.sum(2 * np.abs(f-a) / (np.abs(a) + np.abs(f))) )\n",
    "def smape22(a, f):\n",
    "    print('len(a)', len(a))\n",
    "\n",
    "    # Obtener la desviación estándar y media\n",
    "    std = train_previo_zscore['Número de vistas de página'].std()\n",
    "    media = train_previo_zscore['Número de vistas de página'].mean()\n",
    "\n",
    "    # Revertir z-score\n",
    "    a = (a * std) + media\n",
    "    f = (f * std) + media\n",
    "\n",
    "    epsilon = 0.1  # Valor para evitar divisiones por cero\n",
    "    summ = np.maximum(np.abs(a) + np.abs(f) + epsilon, 0.5 + epsilon)\n",
    "\n",
    "    # Calcular SMAPE\n",
    "    smape = (np.abs(f - a) / summ) * 2.0\n",
    "\n",
    "    return (1 / len(a)) * np.sum(smape)\n",
    "def mae_manual(a, f):\n",
    "    print('len(a)', len(a))\n",
    "\n",
    "    # Obtener la desviación estándar y media\n",
    "    std = train_previo_zscore['Número de vistas de página'].std()\n",
    "    media = train_previo_zscore['Número de vistas de página'].mean()\n",
    "\n",
    "    # Revertir z-score\n",
    "    a = (a * std) + media\n",
    "    f = (f * std) + media\n",
    "\n",
    "    a=np.round(np.expm1(a))\n",
    "    f=np.round(np.expm1(f))\n",
    "\n",
    "    epsilon = 0.1  # Valor para evitar divisiones por cero\n",
    "    diff =np.abs(a-f)\n",
    "    return np.mean(diff)#(1 / len(a)) * np.sum(diff)\n",
    "\n",
    "def rmse_manual(a, f):\n",
    "    print('len(a)', len(a))\n",
    "\n",
    "    # Obtener la desviación estándar y media\n",
    "    std = train_previo_zscore['Número de vistas de página'].std()\n",
    "    media = train_previo_zscore['Número de vistas de página'].mean()\n",
    "\n",
    "    # Revertir z-score\n",
    "    a = (a * std) + media\n",
    "    f = (f * std) + media\n",
    "\n",
    "    a=np.round(np.expm1(a))\n",
    "    f=np.round(np.expm1(f))\n",
    "\n",
    "    # Calcular el RMSE (Error Cuadrático Medio)\n",
    "    diff = np.square(a - f)  # Cuadrado de la diferencia\n",
    "    mse = np.mean(diff)  # Error Cuadrático Medio\n",
    "    rmse_calculado = np.sqrt(mse)  # Raíz cuadrada del MSE\n",
    "\n",
    "    return rmse_calculado\n",
    "\n",
    "auxpred=reshapePred.reshape((y_test.shape[0]*y_test.shape[1]),1)\n",
    "auxpred2=auxpred.reshape((auxpred.shape[0]),)\n",
    "auxY_test=reshapeY_test.reshape((y_test.shape[0]*y_test.shape[1]),1)\n",
    "print(auxpred.shape)\n",
    "print('smape',smape2(auxY_test,auxpred))\n",
    "print('mae',mae_manual(auxY_test,auxpred))\n",
    "print('rmse',rmse_manual(auxY_test,auxpred))\n",
    "print(auxpred2.shape)\n",
    "print(np.array([1,2,3]).shape)\n",
    "print(auxpred2)"
   ]
  },
  {
   "cell_type": "code",
   "execution_count": null,
   "metadata": {
    "id": "iUv0roxGGR6Q"
   },
   "outputs": [],
   "source": []
  }
 ],
 "metadata": {
  "accelerator": "GPU",
  "colab": {
   "authorship_tag": "ABX9TyMRtC4mqE+VkaHxiBjg2qKT",
   "gpuType": "T4",
   "provenance": []
  },
  "kernelspec": {
   "display_name": "Python 3",
   "language": "python",
   "name": "python3"
  },
  "language_info": {
   "codemirror_mode": {
    "name": "ipython",
    "version": 3
   },
   "file_extension": ".py",
   "mimetype": "text/x-python",
   "name": "python",
   "nbconvert_exporter": "python",
   "pygments_lexer": "ipython3",
   "version": "3.7.0"
  }
 },
 "nbformat": 4,
 "nbformat_minor": 1
}
