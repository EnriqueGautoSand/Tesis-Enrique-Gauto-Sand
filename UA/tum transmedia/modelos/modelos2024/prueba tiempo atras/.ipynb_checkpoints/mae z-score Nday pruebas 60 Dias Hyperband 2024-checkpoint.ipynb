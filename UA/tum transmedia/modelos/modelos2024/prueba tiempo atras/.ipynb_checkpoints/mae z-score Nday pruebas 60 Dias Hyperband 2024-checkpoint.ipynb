{
 "cells": [
  {
   "cell_type": "code",
   "execution_count": 1,
   "metadata": {
    "colab": {
     "base_uri": "https://localhost:8080/"
    },
    "executionInfo": {
     "elapsed": 94041,
     "status": "ok",
     "timestamp": 1729553242766,
     "user": {
      "displayName": "Enrique Gauto Sand",
      "userId": "16871957759988522994"
     },
     "user_tz": 180
    },
    "id": "mwtKq7qfLdTL",
    "outputId": "7918017c-6bd9-4f9a-f12b-5299760fef26"
   },
   "outputs": [
    {
     "name": "stdout",
     "output_type": "stream",
     "text": [
      "Collecting keras-tuner==1.4.7\n",
      "  Downloading keras_tuner-1.4.7-py3-none-any.whl.metadata (5.4 kB)\n",
      "Requirement already satisfied: keras in /usr/local/lib/python3.10/dist-packages (from keras-tuner==1.4.7) (3.4.1)\n",
      "Requirement already satisfied: packaging in /usr/local/lib/python3.10/dist-packages (from keras-tuner==1.4.7) (24.1)\n",
      "Requirement already satisfied: requests in /usr/local/lib/python3.10/dist-packages (from keras-tuner==1.4.7) (2.32.3)\n",
      "Collecting kt-legacy (from keras-tuner==1.4.7)\n",
      "  Downloading kt_legacy-1.0.5-py3-none-any.whl.metadata (221 bytes)\n",
      "Requirement already satisfied: absl-py in /usr/local/lib/python3.10/dist-packages (from keras->keras-tuner==1.4.7) (1.4.0)\n",
      "Requirement already satisfied: numpy in /usr/local/lib/python3.10/dist-packages (from keras->keras-tuner==1.4.7) (1.26.4)\n",
      "Requirement already satisfied: rich in /usr/local/lib/python3.10/dist-packages (from keras->keras-tuner==1.4.7) (13.9.2)\n",
      "Requirement already satisfied: namex in /usr/local/lib/python3.10/dist-packages (from keras->keras-tuner==1.4.7) (0.0.8)\n",
      "Requirement already satisfied: h5py in /usr/local/lib/python3.10/dist-packages (from keras->keras-tuner==1.4.7) (3.11.0)\n",
      "Requirement already satisfied: optree in /usr/local/lib/python3.10/dist-packages (from keras->keras-tuner==1.4.7) (0.13.0)\n",
      "Requirement already satisfied: ml-dtypes in /usr/local/lib/python3.10/dist-packages (from keras->keras-tuner==1.4.7) (0.4.1)\n",
      "Requirement already satisfied: charset-normalizer<4,>=2 in /usr/local/lib/python3.10/dist-packages (from requests->keras-tuner==1.4.7) (3.4.0)\n",
      "Requirement already satisfied: idna<4,>=2.5 in /usr/local/lib/python3.10/dist-packages (from requests->keras-tuner==1.4.7) (3.10)\n",
      "Requirement already satisfied: urllib3<3,>=1.21.1 in /usr/local/lib/python3.10/dist-packages (from requests->keras-tuner==1.4.7) (2.2.3)\n",
      "Requirement already satisfied: certifi>=2017.4.17 in /usr/local/lib/python3.10/dist-packages (from requests->keras-tuner==1.4.7) (2024.8.30)\n",
      "Requirement already satisfied: typing-extensions>=4.5.0 in /usr/local/lib/python3.10/dist-packages (from optree->keras->keras-tuner==1.4.7) (4.12.2)\n",
      "Requirement already satisfied: markdown-it-py>=2.2.0 in /usr/local/lib/python3.10/dist-packages (from rich->keras->keras-tuner==1.4.7) (3.0.0)\n",
      "Requirement already satisfied: pygments<3.0.0,>=2.13.0 in /usr/local/lib/python3.10/dist-packages (from rich->keras->keras-tuner==1.4.7) (2.18.0)\n",
      "Requirement already satisfied: mdurl~=0.1 in /usr/local/lib/python3.10/dist-packages (from markdown-it-py>=2.2.0->rich->keras->keras-tuner==1.4.7) (0.1.2)\n",
      "Downloading keras_tuner-1.4.7-py3-none-any.whl (129 kB)\n",
      "\u001b[2K   \u001b[90m━━━━━━━━━━━━━━━━━━━━━━━━━━━━━━━━━━━━━━━━\u001b[0m \u001b[32m129.1/129.1 kB\u001b[0m \u001b[31m3.1 MB/s\u001b[0m eta \u001b[36m0:00:00\u001b[0m\n",
      "\u001b[?25hDownloading kt_legacy-1.0.5-py3-none-any.whl (9.6 kB)\n",
      "Installing collected packages: kt-legacy, keras-tuner\n",
      "Successfully installed keras-tuner-1.4.7 kt-legacy-1.0.5\n",
      "Collecting pandas==2.1.4\n",
      "  Downloading pandas-2.1.4-cp310-cp310-manylinux_2_17_x86_64.manylinux2014_x86_64.whl.metadata (18 kB)\n",
      "Requirement already satisfied: numpy<2,>=1.22.4 in /usr/local/lib/python3.10/dist-packages (from pandas==2.1.4) (1.26.4)\n",
      "Requirement already satisfied: python-dateutil>=2.8.2 in /usr/local/lib/python3.10/dist-packages (from pandas==2.1.4) (2.8.2)\n",
      "Requirement already satisfied: pytz>=2020.1 in /usr/local/lib/python3.10/dist-packages (from pandas==2.1.4) (2024.2)\n",
      "Requirement already satisfied: tzdata>=2022.1 in /usr/local/lib/python3.10/dist-packages (from pandas==2.1.4) (2024.2)\n",
      "Requirement already satisfied: six>=1.5 in /usr/local/lib/python3.10/dist-packages (from python-dateutil>=2.8.2->pandas==2.1.4) (1.16.0)\n",
      "Downloading pandas-2.1.4-cp310-cp310-manylinux_2_17_x86_64.manylinux2014_x86_64.whl (12.3 MB)\n",
      "\u001b[2K   \u001b[90m━━━━━━━━━━━━━━━━━━━━━━━━━━━━━━━━━━━━━━━━\u001b[0m \u001b[32m12.3/12.3 MB\u001b[0m \u001b[31m49.4 MB/s\u001b[0m eta \u001b[36m0:00:00\u001b[0m\n",
      "\u001b[?25hInstalling collected packages: pandas\n",
      "  Attempting uninstall: pandas\n",
      "    Found existing installation: pandas 2.2.2\n",
      "    Uninstalling pandas-2.2.2:\n",
      "      Successfully uninstalled pandas-2.2.2\n",
      "\u001b[31mERROR: pip's dependency resolver does not currently take into account all the packages that are installed. This behaviour is the source of the following dependency conflicts.\n",
      "google-colab 1.0.0 requires pandas==2.2.2, but you have pandas 2.1.4 which is incompatible.\u001b[0m\u001b[31m\n",
      "\u001b[0mSuccessfully installed pandas-2.1.4\n",
      "Requirement already satisfied: numpy==1.26.4 in /usr/local/lib/python3.10/dist-packages (1.26.4)\n",
      "Collecting tensorflow==2.15.0\n",
      "  Downloading tensorflow-2.15.0-cp310-cp310-manylinux_2_17_x86_64.manylinux2014_x86_64.whl.metadata (4.4 kB)\n",
      "Requirement already satisfied: absl-py>=1.0.0 in /usr/local/lib/python3.10/dist-packages (from tensorflow==2.15.0) (1.4.0)\n",
      "Requirement already satisfied: astunparse>=1.6.0 in /usr/local/lib/python3.10/dist-packages (from tensorflow==2.15.0) (1.6.3)\n",
      "Requirement already satisfied: flatbuffers>=23.5.26 in /usr/local/lib/python3.10/dist-packages (from tensorflow==2.15.0) (24.3.25)\n",
      "Requirement already satisfied: gast!=0.5.0,!=0.5.1,!=0.5.2,>=0.2.1 in /usr/local/lib/python3.10/dist-packages (from tensorflow==2.15.0) (0.6.0)\n",
      "Requirement already satisfied: google-pasta>=0.1.1 in /usr/local/lib/python3.10/dist-packages (from tensorflow==2.15.0) (0.2.0)\n",
      "Requirement already satisfied: h5py>=2.9.0 in /usr/local/lib/python3.10/dist-packages (from tensorflow==2.15.0) (3.11.0)\n",
      "Requirement already satisfied: libclang>=13.0.0 in /usr/local/lib/python3.10/dist-packages (from tensorflow==2.15.0) (18.1.1)\n",
      "Collecting ml-dtypes~=0.2.0 (from tensorflow==2.15.0)\n",
      "  Downloading ml_dtypes-0.2.0-cp310-cp310-manylinux_2_17_x86_64.manylinux2014_x86_64.whl.metadata (20 kB)\n",
      "Requirement already satisfied: numpy<2.0.0,>=1.23.5 in /usr/local/lib/python3.10/dist-packages (from tensorflow==2.15.0) (1.26.4)\n",
      "Requirement already satisfied: opt-einsum>=2.3.2 in /usr/local/lib/python3.10/dist-packages (from tensorflow==2.15.0) (3.4.0)\n",
      "Requirement already satisfied: packaging in /usr/local/lib/python3.10/dist-packages (from tensorflow==2.15.0) (24.1)\n",
      "Requirement already satisfied: protobuf!=4.21.0,!=4.21.1,!=4.21.2,!=4.21.3,!=4.21.4,!=4.21.5,<5.0.0dev,>=3.20.3 in /usr/local/lib/python3.10/dist-packages (from tensorflow==2.15.0) (3.20.3)\n",
      "Requirement already satisfied: setuptools in /usr/local/lib/python3.10/dist-packages (from tensorflow==2.15.0) (75.1.0)\n",
      "Requirement already satisfied: six>=1.12.0 in /usr/local/lib/python3.10/dist-packages (from tensorflow==2.15.0) (1.16.0)\n",
      "Requirement already satisfied: termcolor>=1.1.0 in /usr/local/lib/python3.10/dist-packages (from tensorflow==2.15.0) (2.5.0)\n",
      "Requirement already satisfied: typing-extensions>=3.6.6 in /usr/local/lib/python3.10/dist-packages (from tensorflow==2.15.0) (4.12.2)\n",
      "Collecting wrapt<1.15,>=1.11.0 (from tensorflow==2.15.0)\n",
      "  Downloading wrapt-1.14.1-cp310-cp310-manylinux_2_5_x86_64.manylinux1_x86_64.manylinux_2_17_x86_64.manylinux2014_x86_64.whl.metadata (6.7 kB)\n",
      "Requirement already satisfied: tensorflow-io-gcs-filesystem>=0.23.1 in /usr/local/lib/python3.10/dist-packages (from tensorflow==2.15.0) (0.37.1)\n",
      "Requirement already satisfied: grpcio<2.0,>=1.24.3 in /usr/local/lib/python3.10/dist-packages (from tensorflow==2.15.0) (1.64.1)\n",
      "Collecting tensorboard<2.16,>=2.15 (from tensorflow==2.15.0)\n",
      "  Downloading tensorboard-2.15.2-py3-none-any.whl.metadata (1.7 kB)\n",
      "Collecting tensorflow-estimator<2.16,>=2.15.0 (from tensorflow==2.15.0)\n",
      "  Downloading tensorflow_estimator-2.15.0-py2.py3-none-any.whl.metadata (1.3 kB)\n",
      "Collecting keras<2.16,>=2.15.0 (from tensorflow==2.15.0)\n",
      "  Downloading keras-2.15.0-py3-none-any.whl.metadata (2.4 kB)\n",
      "Requirement already satisfied: wheel<1.0,>=0.23.0 in /usr/local/lib/python3.10/dist-packages (from astunparse>=1.6.0->tensorflow==2.15.0) (0.44.0)\n",
      "Requirement already satisfied: google-auth<3,>=1.6.3 in /usr/local/lib/python3.10/dist-packages (from tensorboard<2.16,>=2.15->tensorflow==2.15.0) (2.27.0)\n",
      "Requirement already satisfied: google-auth-oauthlib<2,>=0.5 in /usr/local/lib/python3.10/dist-packages (from tensorboard<2.16,>=2.15->tensorflow==2.15.0) (1.2.1)\n",
      "Requirement already satisfied: markdown>=2.6.8 in /usr/local/lib/python3.10/dist-packages (from tensorboard<2.16,>=2.15->tensorflow==2.15.0) (3.7)\n",
      "Requirement already satisfied: requests<3,>=2.21.0 in /usr/local/lib/python3.10/dist-packages (from tensorboard<2.16,>=2.15->tensorflow==2.15.0) (2.32.3)\n",
      "Requirement already satisfied: tensorboard-data-server<0.8.0,>=0.7.0 in /usr/local/lib/python3.10/dist-packages (from tensorboard<2.16,>=2.15->tensorflow==2.15.0) (0.7.2)\n",
      "Requirement already satisfied: werkzeug>=1.0.1 in /usr/local/lib/python3.10/dist-packages (from tensorboard<2.16,>=2.15->tensorflow==2.15.0) (3.0.4)\n",
      "Requirement already satisfied: cachetools<6.0,>=2.0.0 in /usr/local/lib/python3.10/dist-packages (from google-auth<3,>=1.6.3->tensorboard<2.16,>=2.15->tensorflow==2.15.0) (5.5.0)\n",
      "Requirement already satisfied: pyasn1-modules>=0.2.1 in /usr/local/lib/python3.10/dist-packages (from google-auth<3,>=1.6.3->tensorboard<2.16,>=2.15->tensorflow==2.15.0) (0.4.1)\n",
      "Requirement already satisfied: rsa<5,>=3.1.4 in /usr/local/lib/python3.10/dist-packages (from google-auth<3,>=1.6.3->tensorboard<2.16,>=2.15->tensorflow==2.15.0) (4.9)\n",
      "Requirement already satisfied: requests-oauthlib>=0.7.0 in /usr/local/lib/python3.10/dist-packages (from google-auth-oauthlib<2,>=0.5->tensorboard<2.16,>=2.15->tensorflow==2.15.0) (1.3.1)\n",
      "Requirement already satisfied: charset-normalizer<4,>=2 in /usr/local/lib/python3.10/dist-packages (from requests<3,>=2.21.0->tensorboard<2.16,>=2.15->tensorflow==2.15.0) (3.4.0)\n",
      "Requirement already satisfied: idna<4,>=2.5 in /usr/local/lib/python3.10/dist-packages (from requests<3,>=2.21.0->tensorboard<2.16,>=2.15->tensorflow==2.15.0) (3.10)\n",
      "Requirement already satisfied: urllib3<3,>=1.21.1 in /usr/local/lib/python3.10/dist-packages (from requests<3,>=2.21.0->tensorboard<2.16,>=2.15->tensorflow==2.15.0) (2.2.3)\n",
      "Requirement already satisfied: certifi>=2017.4.17 in /usr/local/lib/python3.10/dist-packages (from requests<3,>=2.21.0->tensorboard<2.16,>=2.15->tensorflow==2.15.0) (2024.8.30)\n",
      "Requirement already satisfied: MarkupSafe>=2.1.1 in /usr/local/lib/python3.10/dist-packages (from werkzeug>=1.0.1->tensorboard<2.16,>=2.15->tensorflow==2.15.0) (3.0.1)\n",
      "Requirement already satisfied: pyasn1<0.7.0,>=0.4.6 in /usr/local/lib/python3.10/dist-packages (from pyasn1-modules>=0.2.1->google-auth<3,>=1.6.3->tensorboard<2.16,>=2.15->tensorflow==2.15.0) (0.6.1)\n",
      "Requirement already satisfied: oauthlib>=3.0.0 in /usr/local/lib/python3.10/dist-packages (from requests-oauthlib>=0.7.0->google-auth-oauthlib<2,>=0.5->tensorboard<2.16,>=2.15->tensorflow==2.15.0) (3.2.2)\n",
      "Downloading tensorflow-2.15.0-cp310-cp310-manylinux_2_17_x86_64.manylinux2014_x86_64.whl (475.2 MB)\n",
      "\u001b[2K   \u001b[90m━━━━━━━━━━━━━━━━━━━━━━━━━━━━━━━━━━━━━━━━\u001b[0m \u001b[32m475.2/475.2 MB\u001b[0m \u001b[31m3.1 MB/s\u001b[0m eta \u001b[36m0:00:00\u001b[0m\n",
      "\u001b[?25hDownloading keras-2.15.0-py3-none-any.whl (1.7 MB)\n",
      "\u001b[2K   \u001b[90m━━━━━━━━━━━━━━━━━━━━━━━━━━━━━━━━━━━━━━━━\u001b[0m \u001b[32m1.7/1.7 MB\u001b[0m \u001b[31m37.3 MB/s\u001b[0m eta \u001b[36m0:00:00\u001b[0m\n",
      "\u001b[?25hDownloading ml_dtypes-0.2.0-cp310-cp310-manylinux_2_17_x86_64.manylinux2014_x86_64.whl (1.0 MB)\n",
      "\u001b[2K   \u001b[90m━━━━━━━━━━━━━━━━━━━━━━━━━━━━━━━━━━━━━━━━\u001b[0m \u001b[32m1.0/1.0 MB\u001b[0m \u001b[31m33.9 MB/s\u001b[0m eta \u001b[36m0:00:00\u001b[0m\n",
      "\u001b[?25hDownloading tensorboard-2.15.2-py3-none-any.whl (5.5 MB)\n",
      "\u001b[2K   \u001b[90m━━━━━━━━━━━━━━━━━━━━━━━━━━━━━━━━━━━━━━━━\u001b[0m \u001b[32m5.5/5.5 MB\u001b[0m \u001b[31m52.9 MB/s\u001b[0m eta \u001b[36m0:00:00\u001b[0m\n",
      "\u001b[?25hDownloading tensorflow_estimator-2.15.0-py2.py3-none-any.whl (441 kB)\n",
      "\u001b[2K   \u001b[90m━━━━━━━━━━━━━━━━━━━━━━━━━━━━━━━━━━━━━━━━\u001b[0m \u001b[32m442.0/442.0 kB\u001b[0m \u001b[31m24.1 MB/s\u001b[0m eta \u001b[36m0:00:00\u001b[0m\n",
      "\u001b[?25hDownloading wrapt-1.14.1-cp310-cp310-manylinux_2_5_x86_64.manylinux1_x86_64.manylinux_2_17_x86_64.manylinux2014_x86_64.whl (77 kB)\n",
      "\u001b[2K   \u001b[90m━━━━━━━━━━━━━━━━━━━━━━━━━━━━━━━━━━━━━━━━\u001b[0m \u001b[32m77.9/77.9 kB\u001b[0m \u001b[31m3.7 MB/s\u001b[0m eta \u001b[36m0:00:00\u001b[0m\n",
      "\u001b[?25hInstalling collected packages: wrapt, tensorflow-estimator, ml-dtypes, keras, tensorboard, tensorflow\n",
      "  Attempting uninstall: wrapt\n",
      "    Found existing installation: wrapt 1.16.0\n",
      "    Uninstalling wrapt-1.16.0:\n",
      "      Successfully uninstalled wrapt-1.16.0\n",
      "  Attempting uninstall: ml-dtypes\n",
      "    Found existing installation: ml-dtypes 0.4.1\n",
      "    Uninstalling ml-dtypes-0.4.1:\n",
      "      Successfully uninstalled ml-dtypes-0.4.1\n",
      "  Attempting uninstall: keras\n",
      "    Found existing installation: keras 3.4.1\n",
      "    Uninstalling keras-3.4.1:\n",
      "      Successfully uninstalled keras-3.4.1\n",
      "  Attempting uninstall: tensorboard\n",
      "    Found existing installation: tensorboard 2.17.0\n",
      "    Uninstalling tensorboard-2.17.0:\n",
      "      Successfully uninstalled tensorboard-2.17.0\n",
      "  Attempting uninstall: tensorflow\n",
      "    Found existing installation: tensorflow 2.17.0\n",
      "    Uninstalling tensorflow-2.17.0:\n",
      "      Successfully uninstalled tensorflow-2.17.0\n",
      "\u001b[31mERROR: pip's dependency resolver does not currently take into account all the packages that are installed. This behaviour is the source of the following dependency conflicts.\n",
      "tensorstore 0.1.66 requires ml-dtypes>=0.3.1, but you have ml-dtypes 0.2.0 which is incompatible.\n",
      "tf-keras 2.17.0 requires tensorflow<2.18,>=2.17, but you have tensorflow 2.15.0 which is incompatible.\u001b[0m\u001b[31m\n",
      "\u001b[0mSuccessfully installed keras-2.15.0 ml-dtypes-0.2.0 tensorboard-2.15.2 tensorflow-2.15.0 tensorflow-estimator-2.15.0 wrapt-1.14.1\n"
     ]
    }
   ],
   "source": [
    "!pip install keras-tuner==1.4.7\n",
    "!pip install pandas==2.1.4\n",
    "!pip install numpy==1.26.4\n",
    "!pip install tensorflow==2.15.0"
   ]
  },
  {
   "cell_type": "code",
   "execution_count": 2,
   "metadata": {
    "executionInfo": {
     "elapsed": 9359,
     "status": "ok",
     "timestamp": 1729553252100,
     "user": {
      "displayName": "Enrique Gauto Sand",
      "userId": "16871957759988522994"
     },
     "user_tz": 180
    },
    "id": "x6Xuz8cqauYb"
   },
   "outputs": [],
   "source": [
    "import numpy as np\n",
    "import tensorflow as tf\n",
    "from tensorflow import keras #desde tensorflow 2 se importa keras,  como paquete integrado de tensorflow\n",
    "import pandas as pd\n",
    "import numpy as np\n",
    "from math import sqrt\n",
    "from numpy import concatenate\n",
    "from matplotlib import pyplot\n",
    "from pandas import read_csv\n",
    "from pandas import DataFrame\n",
    "from pandas import concat\n",
    "from sklearn.preprocessing import MinMaxScaler\n",
    "from sklearn.preprocessing import LabelEncoder\n",
    "from sklearn.metrics import mean_squared_error\n",
    "from keras.models import Sequential\n",
    "from keras.layers import Dense\n",
    "from keras.layers import LSTM, GRU\n",
    "import tensorflow as tf\n",
    "from datetime import datetime\n",
    "from keras.models import Sequential\n",
    "from keras.layers import Dense,Flatten,LSTM,RepeatVector,TimeDistributed#, GRUCellV2\n"
   ]
  },
  {
   "cell_type": "code",
   "execution_count": 3,
   "metadata": {
    "colab": {
     "base_uri": "https://localhost:8080/"
    },
    "executionInfo": {
     "elapsed": 54035,
     "status": "ok",
     "timestamp": 1729553306112,
     "user": {
      "displayName": "Enrique Gauto Sand",
      "userId": "16871957759988522994"
     },
     "user_tz": 180
    },
    "id": "R_2i5Fw0awOr",
    "outputId": "9929a252-e182-4d40-e697-8876f5a29c6c"
   },
   "outputs": [
    {
     "name": "stdout",
     "output_type": "stream",
     "text": [
      "Mounted at /content/drive\n"
     ]
    }
   ],
   "source": [
    "\n",
    "from google.colab import drive\n",
    "\n",
    "drive.mount('/content/drive')"
   ]
  },
  {
   "cell_type": "code",
   "execution_count": 4,
   "metadata": {
    "colab": {
     "base_uri": "https://localhost:8080/",
     "height": 1000
    },
    "executionInfo": {
     "elapsed": 2586,
     "status": "ok",
     "timestamp": 1729553308685,
     "user": {
      "displayName": "Enrique Gauto Sand",
      "userId": "16871957759988522994"
     },
     "user_tz": 180
    },
    "id": "kpkiNaL_boap",
    "outputId": "861f05c2-5df2-4f5b-933f-e5935e8ae582"
   },
   "outputs": [
    {
     "name": "stdout",
     "output_type": "stream",
     "text": [
      "58888\n",
      "Index(['Número de vistas de página', 'Usuarios nuevos', 'Usuarios',\n",
      "       'Número de sesiones por usuario', 'Sesiones', 'Argentina',\n",
      "       'Otros Paises', 'mobile', 'desktop', 'tablet',\n",
      "       'Categoría de dispositivo promedio', 'Categoría de dispositivo std',\n",
      "       'Windows', 'Android', 'Linux', 'Macintosh',\n",
      "       'Sistema operativo (not set)', 'iOS', 'Windows Phone', 'Chrome OS',\n",
      "       'Tizen', 'Sistema operativo promedio', 'Sistema operativo std',\n",
      "       'Organic Search', 'Social', 'Direct', 'Referral',\n",
      "       'Agrupación de canales predeterminada promedio',\n",
      "       'Agrupación de canales predeterminada std', 'mediana_de_medianas',\n",
      "       'lag_90', 'lag_180', 'lag_270', 'lag_360'],\n",
      "      dtype='object')\n",
      "(1732, 34)\n",
      "      Número de vistas de página  Usuarios nuevos  Usuarios  \\\n",
      "0                          200.0             23.0      23.0   \n",
      "1                           70.0             29.0      33.0   \n",
      "2                          323.0             20.0      27.0   \n",
      "3                          151.0             10.0      15.0   \n",
      "4                           37.0             12.0      13.0   \n",
      "...                          ...              ...       ...   \n",
      "1729                         9.0              3.0       6.0   \n",
      "1730                        50.0             18.0      27.0   \n",
      "1731                        62.0             26.0      38.0   \n",
      "1732                        34.0             10.0      16.0   \n",
      "1733                        81.0             30.0      41.0   \n",
      "\n",
      "      Número de sesiones por usuario  Sesiones  Argentina  Otros Paises  \\\n",
      "0                           1.217391      28.0      200.0           0.0   \n",
      "1                           1.121212      37.0       69.0           1.0   \n",
      "2                           1.333333      36.0      320.0           3.0   \n",
      "3                           1.200000      18.0      149.0           2.0   \n",
      "4                           1.153846      15.0       37.0           0.0   \n",
      "...                              ...       ...        ...           ...   \n",
      "1729                        1.500000       9.0        8.0           1.0   \n",
      "1730                        1.111111      30.0       42.0           8.0   \n",
      "1731                        1.368421      52.0       50.0          12.0   \n",
      "1732                        1.000000      16.0       29.0           5.0   \n",
      "1733                        1.170732      48.0       77.0           4.0   \n",
      "\n",
      "      mobile  desktop  tablet  ...  Social  Direct  Referral  \\\n",
      "0       23.0    177.0     0.0  ...     6.0   179.0       0.0   \n",
      "1       29.0     41.0     0.0  ...     7.0    45.0       0.0   \n",
      "2       28.0    295.0     0.0  ...     1.0   302.0       2.0   \n",
      "3       44.0    107.0     0.0  ...     0.0   145.0       0.0   \n",
      "4       18.0     19.0     0.0  ...    11.0    21.0       0.0   \n",
      "...      ...      ...     ...  ...     ...     ...       ...   \n",
      "1729     8.0      1.0     0.0  ...     0.0     0.0       0.0   \n",
      "1730    24.0     25.0     1.0  ...     0.0    27.0       0.0   \n",
      "1731    35.0     27.0     0.0  ...     8.0    28.0       0.0   \n",
      "1732    22.0     10.0     2.0  ...     0.0     9.0       0.0   \n",
      "1733    60.0     21.0     0.0  ...     2.0    44.0       0.0   \n",
      "\n",
      "      Agrupación de canales predeterminada promedio  \\\n",
      "0                                             50.00   \n",
      "1                                             17.50   \n",
      "2                                             80.75   \n",
      "3                                             37.75   \n",
      "4                                              9.25   \n",
      "...                                             ...   \n",
      "1729                                           2.25   \n",
      "1730                                          12.50   \n",
      "1731                                          15.50   \n",
      "1732                                           8.50   \n",
      "1733                                          20.25   \n",
      "\n",
      "      Agrupación de canales predeterminada std  mediana_de_medianas   lag_90  \\\n",
      "0                                    74.669270            22.024332  32.2905   \n",
      "1                                    17.124544            22.024332  32.2905   \n",
      "2                                   127.916720            22.024332  32.2905   \n",
      "3                                    61.969246            22.024332  32.2905   \n",
      "4                                     7.822244            22.024332  32.2905   \n",
      "...                                        ...                  ...      ...   \n",
      "1729                                  3.897114            46.500000  13.0000   \n",
      "1730                                 12.579745            48.000000  15.0000   \n",
      "1731                                 11.863811            48.000000  30.0000   \n",
      "1732                                 10.210289            45.500000  42.0000   \n",
      "1733                                 19.524023            45.500000  43.0000   \n",
      "\n",
      "        lag_180     lag_270    lag_360  \n",
      "0     33.648197   34.116962   34.36589  \n",
      "1     33.648197   34.116962   34.36589  \n",
      "2     33.648197   34.116962   34.36589  \n",
      "3     33.648197   34.116962   34.36589  \n",
      "4     33.648197   34.116962   34.36589  \n",
      "...         ...         ...        ...  \n",
      "1729  24.000000  109.000000  100.00000  \n",
      "1730   2.000000   46.000000   22.00000  \n",
      "1731  22.000000   28.000000   39.00000  \n",
      "1732   9.000000   29.000000    4.00000  \n",
      "1733  18.000000   25.000000   47.00000  \n",
      "\n",
      "[1732 rows x 34 columns]\n"
     ]
    },
    {
     "data": {
      "application/vnd.google.colaboratory.intrinsic+json": {
       "type": "dataframe",
       "variable_name": "dataset"
      },
      "text/html": [
       "\n",
       "  <div id=\"df-d444a432-3917-4aec-987d-2c20dfbfce06\" class=\"colab-df-container\">\n",
       "    <div>\n",
       "<style scoped>\n",
       "    .dataframe tbody tr th:only-of-type {\n",
       "        vertical-align: middle;\n",
       "    }\n",
       "\n",
       "    .dataframe tbody tr th {\n",
       "        vertical-align: top;\n",
       "    }\n",
       "\n",
       "    .dataframe thead th {\n",
       "        text-align: right;\n",
       "    }\n",
       "</style>\n",
       "<table border=\"1\" class=\"dataframe\">\n",
       "  <thead>\n",
       "    <tr style=\"text-align: right;\">\n",
       "      <th></th>\n",
       "      <th>Número de vistas de página</th>\n",
       "      <th>Usuarios nuevos</th>\n",
       "      <th>Usuarios</th>\n",
       "      <th>Número de sesiones por usuario</th>\n",
       "      <th>Sesiones</th>\n",
       "      <th>Argentina</th>\n",
       "      <th>Otros Paises</th>\n",
       "      <th>mobile</th>\n",
       "      <th>desktop</th>\n",
       "      <th>tablet</th>\n",
       "      <th>...</th>\n",
       "      <th>Social</th>\n",
       "      <th>Direct</th>\n",
       "      <th>Referral</th>\n",
       "      <th>Agrupación de canales predeterminada promedio</th>\n",
       "      <th>Agrupación de canales predeterminada std</th>\n",
       "      <th>mediana_de_medianas</th>\n",
       "      <th>lag_90</th>\n",
       "      <th>lag_180</th>\n",
       "      <th>lag_270</th>\n",
       "      <th>lag_360</th>\n",
       "    </tr>\n",
       "  </thead>\n",
       "  <tbody>\n",
       "    <tr>\n",
       "      <th>0</th>\n",
       "      <td>200.0</td>\n",
       "      <td>23.0</td>\n",
       "      <td>23.0</td>\n",
       "      <td>1.217391</td>\n",
       "      <td>28.0</td>\n",
       "      <td>200.0</td>\n",
       "      <td>0.0</td>\n",
       "      <td>23.0</td>\n",
       "      <td>177.0</td>\n",
       "      <td>0.0</td>\n",
       "      <td>...</td>\n",
       "      <td>6.0</td>\n",
       "      <td>179.0</td>\n",
       "      <td>0.0</td>\n",
       "      <td>50.00</td>\n",
       "      <td>74.669270</td>\n",
       "      <td>22.024332</td>\n",
       "      <td>32.2905</td>\n",
       "      <td>33.648197</td>\n",
       "      <td>34.116962</td>\n",
       "      <td>34.36589</td>\n",
       "    </tr>\n",
       "    <tr>\n",
       "      <th>1</th>\n",
       "      <td>70.0</td>\n",
       "      <td>29.0</td>\n",
       "      <td>33.0</td>\n",
       "      <td>1.121212</td>\n",
       "      <td>37.0</td>\n",
       "      <td>69.0</td>\n",
       "      <td>1.0</td>\n",
       "      <td>29.0</td>\n",
       "      <td>41.0</td>\n",
       "      <td>0.0</td>\n",
       "      <td>...</td>\n",
       "      <td>7.0</td>\n",
       "      <td>45.0</td>\n",
       "      <td>0.0</td>\n",
       "      <td>17.50</td>\n",
       "      <td>17.124544</td>\n",
       "      <td>22.024332</td>\n",
       "      <td>32.2905</td>\n",
       "      <td>33.648197</td>\n",
       "      <td>34.116962</td>\n",
       "      <td>34.36589</td>\n",
       "    </tr>\n",
       "    <tr>\n",
       "      <th>2</th>\n",
       "      <td>323.0</td>\n",
       "      <td>20.0</td>\n",
       "      <td>27.0</td>\n",
       "      <td>1.333333</td>\n",
       "      <td>36.0</td>\n",
       "      <td>320.0</td>\n",
       "      <td>3.0</td>\n",
       "      <td>28.0</td>\n",
       "      <td>295.0</td>\n",
       "      <td>0.0</td>\n",
       "      <td>...</td>\n",
       "      <td>1.0</td>\n",
       "      <td>302.0</td>\n",
       "      <td>2.0</td>\n",
       "      <td>80.75</td>\n",
       "      <td>127.916720</td>\n",
       "      <td>22.024332</td>\n",
       "      <td>32.2905</td>\n",
       "      <td>33.648197</td>\n",
       "      <td>34.116962</td>\n",
       "      <td>34.36589</td>\n",
       "    </tr>\n",
       "    <tr>\n",
       "      <th>3</th>\n",
       "      <td>151.0</td>\n",
       "      <td>10.0</td>\n",
       "      <td>15.0</td>\n",
       "      <td>1.200000</td>\n",
       "      <td>18.0</td>\n",
       "      <td>149.0</td>\n",
       "      <td>2.0</td>\n",
       "      <td>44.0</td>\n",
       "      <td>107.0</td>\n",
       "      <td>0.0</td>\n",
       "      <td>...</td>\n",
       "      <td>0.0</td>\n",
       "      <td>145.0</td>\n",
       "      <td>0.0</td>\n",
       "      <td>37.75</td>\n",
       "      <td>61.969246</td>\n",
       "      <td>22.024332</td>\n",
       "      <td>32.2905</td>\n",
       "      <td>33.648197</td>\n",
       "      <td>34.116962</td>\n",
       "      <td>34.36589</td>\n",
       "    </tr>\n",
       "    <tr>\n",
       "      <th>4</th>\n",
       "      <td>37.0</td>\n",
       "      <td>12.0</td>\n",
       "      <td>13.0</td>\n",
       "      <td>1.153846</td>\n",
       "      <td>15.0</td>\n",
       "      <td>37.0</td>\n",
       "      <td>0.0</td>\n",
       "      <td>18.0</td>\n",
       "      <td>19.0</td>\n",
       "      <td>0.0</td>\n",
       "      <td>...</td>\n",
       "      <td>11.0</td>\n",
       "      <td>21.0</td>\n",
       "      <td>0.0</td>\n",
       "      <td>9.25</td>\n",
       "      <td>7.822244</td>\n",
       "      <td>22.024332</td>\n",
       "      <td>32.2905</td>\n",
       "      <td>33.648197</td>\n",
       "      <td>34.116962</td>\n",
       "      <td>34.36589</td>\n",
       "    </tr>\n",
       "  </tbody>\n",
       "</table>\n",
       "<p>5 rows × 34 columns</p>\n",
       "</div>\n",
       "    <div class=\"colab-df-buttons\">\n",
       "\n",
       "  <div class=\"colab-df-container\">\n",
       "    <button class=\"colab-df-convert\" onclick=\"convertToInteractive('df-d444a432-3917-4aec-987d-2c20dfbfce06')\"\n",
       "            title=\"Convert this dataframe to an interactive table.\"\n",
       "            style=\"display:none;\">\n",
       "\n",
       "  <svg xmlns=\"http://www.w3.org/2000/svg\" height=\"24px\" viewBox=\"0 -960 960 960\">\n",
       "    <path d=\"M120-120v-720h720v720H120Zm60-500h600v-160H180v160Zm220 220h160v-160H400v160Zm0 220h160v-160H400v160ZM180-400h160v-160H180v160Zm440 0h160v-160H620v160ZM180-180h160v-160H180v160Zm440 0h160v-160H620v160Z\"/>\n",
       "  </svg>\n",
       "    </button>\n",
       "\n",
       "  <style>\n",
       "    .colab-df-container {\n",
       "      display:flex;\n",
       "      gap: 12px;\n",
       "    }\n",
       "\n",
       "    .colab-df-convert {\n",
       "      background-color: #E8F0FE;\n",
       "      border: none;\n",
       "      border-radius: 50%;\n",
       "      cursor: pointer;\n",
       "      display: none;\n",
       "      fill: #1967D2;\n",
       "      height: 32px;\n",
       "      padding: 0 0 0 0;\n",
       "      width: 32px;\n",
       "    }\n",
       "\n",
       "    .colab-df-convert:hover {\n",
       "      background-color: #E2EBFA;\n",
       "      box-shadow: 0px 1px 2px rgba(60, 64, 67, 0.3), 0px 1px 3px 1px rgba(60, 64, 67, 0.15);\n",
       "      fill: #174EA6;\n",
       "    }\n",
       "\n",
       "    .colab-df-buttons div {\n",
       "      margin-bottom: 4px;\n",
       "    }\n",
       "\n",
       "    [theme=dark] .colab-df-convert {\n",
       "      background-color: #3B4455;\n",
       "      fill: #D2E3FC;\n",
       "    }\n",
       "\n",
       "    [theme=dark] .colab-df-convert:hover {\n",
       "      background-color: #434B5C;\n",
       "      box-shadow: 0px 1px 3px 1px rgba(0, 0, 0, 0.15);\n",
       "      filter: drop-shadow(0px 1px 2px rgba(0, 0, 0, 0.3));\n",
       "      fill: #FFFFFF;\n",
       "    }\n",
       "  </style>\n",
       "\n",
       "    <script>\n",
       "      const buttonEl =\n",
       "        document.querySelector('#df-d444a432-3917-4aec-987d-2c20dfbfce06 button.colab-df-convert');\n",
       "      buttonEl.style.display =\n",
       "        google.colab.kernel.accessAllowed ? 'block' : 'none';\n",
       "\n",
       "      async function convertToInteractive(key) {\n",
       "        const element = document.querySelector('#df-d444a432-3917-4aec-987d-2c20dfbfce06');\n",
       "        const dataTable =\n",
       "          await google.colab.kernel.invokeFunction('convertToInteractive',\n",
       "                                                    [key], {});\n",
       "        if (!dataTable) return;\n",
       "\n",
       "        const docLinkHtml = 'Like what you see? Visit the ' +\n",
       "          '<a target=\"_blank\" href=https://colab.research.google.com/notebooks/data_table.ipynb>data table notebook</a>'\n",
       "          + ' to learn more about interactive tables.';\n",
       "        element.innerHTML = '';\n",
       "        dataTable['output_type'] = 'display_data';\n",
       "        await google.colab.output.renderOutput(dataTable, element);\n",
       "        const docLink = document.createElement('div');\n",
       "        docLink.innerHTML = docLinkHtml;\n",
       "        element.appendChild(docLink);\n",
       "      }\n",
       "    </script>\n",
       "  </div>\n",
       "\n",
       "\n",
       "<div id=\"df-bd886de1-bfa5-4698-9bec-05957cee5c66\">\n",
       "  <button class=\"colab-df-quickchart\" onclick=\"quickchart('df-bd886de1-bfa5-4698-9bec-05957cee5c66')\"\n",
       "            title=\"Suggest charts\"\n",
       "            style=\"display:none;\">\n",
       "\n",
       "<svg xmlns=\"http://www.w3.org/2000/svg\" height=\"24px\"viewBox=\"0 0 24 24\"\n",
       "     width=\"24px\">\n",
       "    <g>\n",
       "        <path d=\"M19 3H5c-1.1 0-2 .9-2 2v14c0 1.1.9 2 2 2h14c1.1 0 2-.9 2-2V5c0-1.1-.9-2-2-2zM9 17H7v-7h2v7zm4 0h-2V7h2v10zm4 0h-2v-4h2v4z\"/>\n",
       "    </g>\n",
       "</svg>\n",
       "  </button>\n",
       "\n",
       "<style>\n",
       "  .colab-df-quickchart {\n",
       "      --bg-color: #E8F0FE;\n",
       "      --fill-color: #1967D2;\n",
       "      --hover-bg-color: #E2EBFA;\n",
       "      --hover-fill-color: #174EA6;\n",
       "      --disabled-fill-color: #AAA;\n",
       "      --disabled-bg-color: #DDD;\n",
       "  }\n",
       "\n",
       "  [theme=dark] .colab-df-quickchart {\n",
       "      --bg-color: #3B4455;\n",
       "      --fill-color: #D2E3FC;\n",
       "      --hover-bg-color: #434B5C;\n",
       "      --hover-fill-color: #FFFFFF;\n",
       "      --disabled-bg-color: #3B4455;\n",
       "      --disabled-fill-color: #666;\n",
       "  }\n",
       "\n",
       "  .colab-df-quickchart {\n",
       "    background-color: var(--bg-color);\n",
       "    border: none;\n",
       "    border-radius: 50%;\n",
       "    cursor: pointer;\n",
       "    display: none;\n",
       "    fill: var(--fill-color);\n",
       "    height: 32px;\n",
       "    padding: 0;\n",
       "    width: 32px;\n",
       "  }\n",
       "\n",
       "  .colab-df-quickchart:hover {\n",
       "    background-color: var(--hover-bg-color);\n",
       "    box-shadow: 0 1px 2px rgba(60, 64, 67, 0.3), 0 1px 3px 1px rgba(60, 64, 67, 0.15);\n",
       "    fill: var(--button-hover-fill-color);\n",
       "  }\n",
       "\n",
       "  .colab-df-quickchart-complete:disabled,\n",
       "  .colab-df-quickchart-complete:disabled:hover {\n",
       "    background-color: var(--disabled-bg-color);\n",
       "    fill: var(--disabled-fill-color);\n",
       "    box-shadow: none;\n",
       "  }\n",
       "\n",
       "  .colab-df-spinner {\n",
       "    border: 2px solid var(--fill-color);\n",
       "    border-color: transparent;\n",
       "    border-bottom-color: var(--fill-color);\n",
       "    animation:\n",
       "      spin 1s steps(1) infinite;\n",
       "  }\n",
       "\n",
       "  @keyframes spin {\n",
       "    0% {\n",
       "      border-color: transparent;\n",
       "      border-bottom-color: var(--fill-color);\n",
       "      border-left-color: var(--fill-color);\n",
       "    }\n",
       "    20% {\n",
       "      border-color: transparent;\n",
       "      border-left-color: var(--fill-color);\n",
       "      border-top-color: var(--fill-color);\n",
       "    }\n",
       "    30% {\n",
       "      border-color: transparent;\n",
       "      border-left-color: var(--fill-color);\n",
       "      border-top-color: var(--fill-color);\n",
       "      border-right-color: var(--fill-color);\n",
       "    }\n",
       "    40% {\n",
       "      border-color: transparent;\n",
       "      border-right-color: var(--fill-color);\n",
       "      border-top-color: var(--fill-color);\n",
       "    }\n",
       "    60% {\n",
       "      border-color: transparent;\n",
       "      border-right-color: var(--fill-color);\n",
       "    }\n",
       "    80% {\n",
       "      border-color: transparent;\n",
       "      border-right-color: var(--fill-color);\n",
       "      border-bottom-color: var(--fill-color);\n",
       "    }\n",
       "    90% {\n",
       "      border-color: transparent;\n",
       "      border-bottom-color: var(--fill-color);\n",
       "    }\n",
       "  }\n",
       "</style>\n",
       "\n",
       "  <script>\n",
       "    async function quickchart(key) {\n",
       "      const quickchartButtonEl =\n",
       "        document.querySelector('#' + key + ' button');\n",
       "      quickchartButtonEl.disabled = true;  // To prevent multiple clicks.\n",
       "      quickchartButtonEl.classList.add('colab-df-spinner');\n",
       "      try {\n",
       "        const charts = await google.colab.kernel.invokeFunction(\n",
       "            'suggestCharts', [key], {});\n",
       "      } catch (error) {\n",
       "        console.error('Error during call to suggestCharts:', error);\n",
       "      }\n",
       "      quickchartButtonEl.classList.remove('colab-df-spinner');\n",
       "      quickchartButtonEl.classList.add('colab-df-quickchart-complete');\n",
       "    }\n",
       "    (() => {\n",
       "      let quickchartButtonEl =\n",
       "        document.querySelector('#df-bd886de1-bfa5-4698-9bec-05957cee5c66 button');\n",
       "      quickchartButtonEl.style.display =\n",
       "        google.colab.kernel.accessAllowed ? 'block' : 'none';\n",
       "    })();\n",
       "  </script>\n",
       "</div>\n",
       "\n",
       "    </div>\n",
       "  </div>\n"
      ],
      "text/plain": [
       "   Número de vistas de página  Usuarios nuevos  Usuarios  \\\n",
       "0                       200.0             23.0      23.0   \n",
       "1                        70.0             29.0      33.0   \n",
       "2                       323.0             20.0      27.0   \n",
       "3                       151.0             10.0      15.0   \n",
       "4                        37.0             12.0      13.0   \n",
       "\n",
       "   Número de sesiones por usuario  Sesiones  Argentina  Otros Paises  mobile  \\\n",
       "0                        1.217391      28.0      200.0           0.0    23.0   \n",
       "1                        1.121212      37.0       69.0           1.0    29.0   \n",
       "2                        1.333333      36.0      320.0           3.0    28.0   \n",
       "3                        1.200000      18.0      149.0           2.0    44.0   \n",
       "4                        1.153846      15.0       37.0           0.0    18.0   \n",
       "\n",
       "   desktop  tablet  ...  Social  Direct  Referral  \\\n",
       "0    177.0     0.0  ...     6.0   179.0       0.0   \n",
       "1     41.0     0.0  ...     7.0    45.0       0.0   \n",
       "2    295.0     0.0  ...     1.0   302.0       2.0   \n",
       "3    107.0     0.0  ...     0.0   145.0       0.0   \n",
       "4     19.0     0.0  ...    11.0    21.0       0.0   \n",
       "\n",
       "   Agrupación de canales predeterminada promedio  \\\n",
       "0                                          50.00   \n",
       "1                                          17.50   \n",
       "2                                          80.75   \n",
       "3                                          37.75   \n",
       "4                                           9.25   \n",
       "\n",
       "   Agrupación de canales predeterminada std  mediana_de_medianas   lag_90  \\\n",
       "0                                 74.669270            22.024332  32.2905   \n",
       "1                                 17.124544            22.024332  32.2905   \n",
       "2                                127.916720            22.024332  32.2905   \n",
       "3                                 61.969246            22.024332  32.2905   \n",
       "4                                  7.822244            22.024332  32.2905   \n",
       "\n",
       "     lag_180    lag_270   lag_360  \n",
       "0  33.648197  34.116962  34.36589  \n",
       "1  33.648197  34.116962  34.36589  \n",
       "2  33.648197  34.116962  34.36589  \n",
       "3  33.648197  34.116962  34.36589  \n",
       "4  33.648197  34.116962  34.36589  \n",
       "\n",
       "[5 rows x 34 columns]"
      ]
     },
     "execution_count": 4,
     "metadata": {},
     "output_type": "execute_result"
    }
   ],
   "source": [
    "#Reading the data set, parsing the dates and inferring the date format to date time. We also fill the Nan’s with 0.\n",
    "#agrego index_col=0 para solucionar Unnamed: 0 porque https://stackoverflow.com/questions/43983622/remove-unnamed-columns-in-pandas-dataframe\n",
    "dataset = read_csv(\"/content/drive/MyDrive/a Tesis de Grado/Tesis Versiones/tesis 2024/UA/tum transmedia/preprocesamiento/outlier/salidaCSV/salidaKNN2024_15Octubre.csv\", index_col=0)\n",
    "#dataset.fillna(0, inplace=True)//pasar nans a ceros\n",
    "#revisar lo que hago en el otro dataset\n",
    "print(dataset.size)\n",
    "print(dataset.columns)\n",
    "\n",
    "print(dataset.shape)\n",
    "print(dataset)\n",
    "dataset.head()"
   ]
  },
  {
   "cell_type": "code",
   "execution_count": 5,
   "metadata": {
    "executionInfo": {
     "elapsed": 130,
     "status": "ok",
     "timestamp": 1729553308686,
     "user": {
      "displayName": "Enrique Gauto Sand",
      "userId": "16871957759988522994"
     },
     "user_tz": 180
    },
    "id": "hr0DqSWmdeHq"
   },
   "outputs": [],
   "source": [
    "from copy import deepcopy\n",
    "from datetime import datetime as dt\n"
   ]
  },
  {
   "cell_type": "code",
   "execution_count": 8,
   "metadata": {
    "colab": {
     "base_uri": "https://localhost:8080/"
    },
    "executionInfo": {
     "elapsed": 130,
     "status": "ok",
     "timestamp": 1729553308689,
     "user": {
      "displayName": "Enrique Gauto Sand",
      "userId": "16871957759988522994"
     },
     "user_tz": 180
    },
    "id": "TkU0EpGc12rw",
    "outputId": "25049116-0f62-42c2-8910-eaff7829e299"
   },
   "outputs": [
    {
     "name": "stdout",
     "output_type": "stream",
     "text": [
      "False\n"
     ]
    }
   ],
   "source": [
    "hay_negativos = (dataset < 0).any().any()\n",
    "print(hay_negativos)"
   ]
  },
  {
   "cell_type": "code",
   "execution_count": 9,
   "metadata": {
    "colab": {
     "base_uri": "https://localhost:8080/"
    },
    "executionInfo": {
     "elapsed": 120,
     "status": "ok",
     "timestamp": 1729553308690,
     "user": {
      "displayName": "Enrique Gauto Sand",
      "userId": "16871957759988522994"
     },
     "user_tz": 180
    },
    "id": "_ZQqMrdN0e4f",
    "outputId": "40cca5b1-172c-4c1d-9a43-adf50835de40"
   },
   "outputs": [
    {
     "name": "stdout",
     "output_type": "stream",
     "text": [
      "False\n",
      "Número de vistas de página                       False\n",
      "Usuarios nuevos                                  False\n",
      "Usuarios                                         False\n",
      "Número de sesiones por usuario                   False\n",
      "Sesiones                                         False\n",
      "Argentina                                        False\n",
      "Otros Paises                                     False\n",
      "mobile                                           False\n",
      "desktop                                          False\n",
      "tablet                                           False\n",
      "Categoría de dispositivo promedio                False\n",
      "Categoría de dispositivo std                     False\n",
      "Windows                                          False\n",
      "Android                                          False\n",
      "Linux                                            False\n",
      "Macintosh                                        False\n",
      "Sistema operativo (not set)                      False\n",
      "iOS                                              False\n",
      "Windows Phone                                    False\n",
      "Chrome OS                                        False\n",
      "Tizen                                            False\n",
      "Sistema operativo promedio                       False\n",
      "Sistema operativo std                            False\n",
      "Organic Search                                   False\n",
      "Social                                           False\n",
      "Direct                                           False\n",
      "Referral                                         False\n",
      "Agrupación de canales predeterminada promedio    False\n",
      "Agrupación de canales predeterminada std         False\n",
      "mediana_de_medianas                              False\n",
      "lag_90                                           False\n",
      "lag_180                                          False\n",
      "lag_270                                          False\n",
      "lag_360                                          False\n",
      "dtype: bool\n"
     ]
    }
   ],
   "source": [
    "print(dataset.isnull().values.any())\n",
    "#print(dataset[dataset<0])\n",
    "print(dataset.isnull().any())"
   ]
  },
  {
   "cell_type": "code",
   "execution_count": 10,
   "metadata": {
    "colab": {
     "base_uri": "https://localhost:8080/"
    },
    "executionInfo": {
     "elapsed": 121,
     "status": "ok",
     "timestamp": 1729553308696,
     "user": {
      "displayName": "Enrique Gauto Sand",
      "userId": "16871957759988522994"
     },
     "user_tz": 180
    },
    "id": "LiMrPyEHRXn7",
    "outputId": "cd2d8c3e-448f-4096-fe10-ee45cd7ce478"
   },
   "outputs": [
    {
     "data": {
      "text/plain": [
       "Index(['Número de vistas de página', 'Usuarios nuevos', 'Usuarios',\n",
       "       'Número de sesiones por usuario', 'Sesiones', 'Argentina',\n",
       "       'Otros Paises', 'mobile', 'desktop', 'tablet',\n",
       "       'Categoría de dispositivo promedio', 'Categoría de dispositivo std',\n",
       "       'Windows', 'Android', 'Linux', 'Macintosh',\n",
       "       'Sistema operativo (not set)', 'iOS', 'Windows Phone', 'Chrome OS',\n",
       "       'Tizen', 'Sistema operativo promedio', 'Sistema operativo std',\n",
       "       'Organic Search', 'Social', 'Direct', 'Referral',\n",
       "       'Agrupación de canales predeterminada promedio',\n",
       "       'Agrupación de canales predeterminada std', 'mediana_de_medianas',\n",
       "       'lag_90', 'lag_180', 'lag_270', 'lag_360', 'mediana Dispositivos',\n",
       "       'mediana Sistema operativo',\n",
       "       'mediana Agrupación de canales predeterminada'],\n",
       "      dtype='object')"
      ]
     },
     "execution_count": 10,
     "metadata": {},
     "output_type": "execute_result"
    }
   ],
   "source": [
    "# mediana\n",
    "dataset['mediana Dispositivos'] = dataset[['mobile', 'desktop', 'tablet']].median(axis=1)\n",
    "dataset['mediana Sistema operativo'] = dataset[['Windows', 'Android', 'Linux',\n",
    "       'Macintosh', 'Sistema operativo (not set)', 'iOS', 'Windows Phone',\n",
    "       'Chrome OS', 'Tizen']].median(axis=1)\n",
    "dataset['mediana Agrupación de canales predeterminada'] = dataset[['Organic Search', 'Social', 'Direct',\n",
    "       'Referral']].median(axis=1)\n",
    "dataset.columns"
   ]
  },
  {
   "cell_type": "code",
   "execution_count": 11,
   "metadata": {
    "colab": {
     "base_uri": "https://localhost:8080/"
    },
    "executionInfo": {
     "elapsed": 138,
     "status": "ok",
     "timestamp": 1729553308725,
     "user": {
      "displayName": "Enrique Gauto Sand",
      "userId": "16871957759988522994"
     },
     "user_tz": 180
    },
    "id": "UWcOZi1nkKPS",
    "outputId": "e68fbcdb-ad88-4200-a3c0-d887f29520ef"
   },
   "outputs": [
    {
     "name": "stdout",
     "output_type": "stream",
     "text": [
      "dataset.shape[0] 1732  dataset.shape[1] 37\n",
      "1385\n",
      "train_df (1384, 37)\n",
      "test_df (347, 37)\n",
      "test (347, 37) [ 0.00871402 -0.14021283  0.2288764  -0.16799092  0.20060153  0.04361935\n",
      "  0.2188709   0.2332113  -0.01120929 -0.22578507 -0.0351817  -0.26294698\n",
      "  0.12103626  0.31395778 -0.55639242 -0.46923259 -0.30084072 -0.68294761\n",
      " -0.10115871 -0.06812418 -0.09798831 -0.12350289 -0.08058452  0.15924994\n",
      " -0.91628676  0.33626983 -0.56664335 -0.05252464 -0.00556945  0.81887773\n",
      "  0.16583596 -2.79184921  1.91459302  1.32380886  0.50156743 -0.27082404\n",
      "  0.15564852]\n"
     ]
    },
    {
     "name": "stderr",
     "output_type": "stream",
     "text": [
      "<ipython-input-11-88b66e6ae03a>:22: SettingWithCopyWarning: \n",
      "A value is trying to be set on a copy of a slice from a DataFrame.\n",
      "Try using .loc[row_indexer,col_indexer] = value instead\n",
      "\n",
      "See the caveats in the documentation: https://pandas.pydata.org/pandas-docs/stable/user_guide/indexing.html#returning-a-view-versus-a-copy\n",
      "  train[column] = (train[column] - mean) / std\n",
      "<ipython-input-11-88b66e6ae03a>:32: SettingWithCopyWarning: \n",
      "A value is trying to be set on a copy of a slice from a DataFrame.\n",
      "Try using .loc[row_indexer,col_indexer] = value instead\n",
      "\n",
      "See the caveats in the documentation: https://pandas.pydata.org/pandas-docs/stable/user_guide/indexing.html#returning-a-view-versus-a-copy\n",
      "  test[column1] = (test[column1] - mean_train) / std_train\n"
     ]
    }
   ],
   "source": [
    "# parrtir en 80 - 20 segun la profe\n",
    "#normalizar\n",
    "#partir datos de entrenamiento y prueba\n",
    "print('dataset.shape[0]',dataset.shape[0],' dataset.shape[1]',dataset.shape[1])\n",
    "formaFinal=int(dataset.shape[0]*0.80)#80% para train y 20% para test\n",
    "print(formaFinal)\n",
    "train_df,test_df = dataset[1:formaFinal], dataset[formaFinal:] #spliteo test/train\n",
    "train = train_df\n",
    "test = test_df\n",
    "# Normalización del conjunto de entrenamiento\n",
    "train_previo_log1p=deepcopy(train)\n",
    "for column in train.columns:\n",
    "    train.loc[:, column] = np.log1p(train[column])\n",
    "train_previo_zscore = deepcopy(train)\n",
    "for column in train.columns:\n",
    "    mean = train[column].mean()  # Media del conjunto de entrenamiento\n",
    "    std = train[column].std()    # Desviación estándar del conjunto de entrenamiento\n",
    "    train[column] = (train[column] - mean) / std\n",
    "test_previo_log1p=deepcopy(test)\n",
    "for column1 in test.columns:\n",
    "    test.loc[:, column1] = np.log1p(test[column1])\n",
    "# Normalización del conjunto de prueba\n",
    "test_previo_zscore = deepcopy(test)\n",
    "for column1 in test.columns:\n",
    "    mean_train = train_previo_zscore[column1].mean()  # Media del conjunto de entrenamiento\n",
    "    std_train = train_previo_zscore[column1].std()    # Desviación estándar del conjunto de entrenamiento\n",
    "    if std_train != 0:\n",
    "        test[column1] = (test[column1] - mean_train) / std_train\n",
    "    else:\n",
    "        test[column1] = 0 \n",
    "\n",
    "print('train_df',train_df.shape)\n",
    "print('test_df',test_df.shape)\n",
    "print('test',test.shape,test.values[11])\n"
   ]
  },
  {
   "cell_type": "code",
   "execution_count": 12,
   "metadata": {
    "colab": {
     "base_uri": "https://localhost:8080/",
     "height": 906
    },
    "executionInfo": {
     "elapsed": 127,
     "status": "ok",
     "timestamp": 1729553308727,
     "user": {
      "displayName": "Enrique Gauto Sand",
      "userId": "16871957759988522994"
     },
     "user_tz": 180
    },
    "id": "vdbAXodR189p",
    "outputId": "26cde974-3b4c-4a2c-f79b-413115608f1a"
   },
   "outputs": [
    {
     "name": "stdout",
     "output_type": "stream",
     "text": [
      "False\n",
      "False\n",
      "Número de vistas de página                       False\n",
      "Usuarios nuevos                                  False\n",
      "Usuarios                                         False\n",
      "Número de sesiones por usuario                   False\n",
      "Sesiones                                         False\n",
      "Argentina                                        False\n",
      "Otros Paises                                     False\n",
      "mobile                                           False\n",
      "desktop                                          False\n",
      "tablet                                           False\n",
      "Categoría de dispositivo promedio                False\n",
      "Categoría de dispositivo std                     False\n",
      "Windows                                          False\n",
      "Android                                          False\n",
      "Linux                                            False\n",
      "Macintosh                                        False\n",
      "Sistema operativo (not set)                      False\n",
      "iOS                                              False\n",
      "Windows Phone                                    False\n",
      "Chrome OS                                        False\n",
      "Tizen                                            False\n",
      "Sistema operativo promedio                       False\n",
      "Sistema operativo std                            False\n",
      "Organic Search                                   False\n",
      "Social                                           False\n",
      "Direct                                           False\n",
      "Referral                                         False\n",
      "Agrupación de canales predeterminada promedio    False\n",
      "Agrupación de canales predeterminada std         False\n",
      "mediana_de_medianas                              False\n",
      "lag_90                                           False\n",
      "lag_180                                          False\n",
      "lag_270                                          False\n",
      "lag_360                                          False\n",
      "mediana Dispositivos                             False\n",
      "mediana Sistema operativo                        False\n",
      "mediana Agrupación de canales predeterminada     False\n",
      "dtype: bool\n"
     ]
    },
    {
     "data": {
      "application/vnd.google.colaboratory.intrinsic+json": {
       "type": "dataframe"
      },
      "text/html": [
       "\n",
       "  <div id=\"df-3f45125f-730a-4712-ba29-034b70f167df\" class=\"colab-df-container\">\n",
       "    <div>\n",
       "<style scoped>\n",
       "    .dataframe tbody tr th:only-of-type {\n",
       "        vertical-align: middle;\n",
       "    }\n",
       "\n",
       "    .dataframe tbody tr th {\n",
       "        vertical-align: top;\n",
       "    }\n",
       "\n",
       "    .dataframe thead th {\n",
       "        text-align: right;\n",
       "    }\n",
       "</style>\n",
       "<table border=\"1\" class=\"dataframe\">\n",
       "  <thead>\n",
       "    <tr style=\"text-align: right;\">\n",
       "      <th></th>\n",
       "      <th>Número de vistas de página</th>\n",
       "      <th>Usuarios nuevos</th>\n",
       "      <th>Usuarios</th>\n",
       "      <th>Número de sesiones por usuario</th>\n",
       "      <th>Sesiones</th>\n",
       "      <th>Argentina</th>\n",
       "      <th>Otros Paises</th>\n",
       "      <th>mobile</th>\n",
       "      <th>desktop</th>\n",
       "      <th>tablet</th>\n",
       "      <th>...</th>\n",
       "      <th>Agrupación de canales predeterminada promedio</th>\n",
       "      <th>Agrupación de canales predeterminada std</th>\n",
       "      <th>mediana_de_medianas</th>\n",
       "      <th>lag_90</th>\n",
       "      <th>lag_180</th>\n",
       "      <th>lag_270</th>\n",
       "      <th>lag_360</th>\n",
       "      <th>mediana Dispositivos</th>\n",
       "      <th>mediana Sistema operativo</th>\n",
       "      <th>mediana Agrupación de canales predeterminada</th>\n",
       "    </tr>\n",
       "  </thead>\n",
       "  <tbody>\n",
       "  </tbody>\n",
       "</table>\n",
       "<p>0 rows × 37 columns</p>\n",
       "</div>\n",
       "    <div class=\"colab-df-buttons\">\n",
       "\n",
       "  <div class=\"colab-df-container\">\n",
       "    <button class=\"colab-df-convert\" onclick=\"convertToInteractive('df-3f45125f-730a-4712-ba29-034b70f167df')\"\n",
       "            title=\"Convert this dataframe to an interactive table.\"\n",
       "            style=\"display:none;\">\n",
       "\n",
       "  <svg xmlns=\"http://www.w3.org/2000/svg\" height=\"24px\" viewBox=\"0 -960 960 960\">\n",
       "    <path d=\"M120-120v-720h720v720H120Zm60-500h600v-160H180v160Zm220 220h160v-160H400v160Zm0 220h160v-160H400v160ZM180-400h160v-160H180v160Zm440 0h160v-160H620v160ZM180-180h160v-160H180v160Zm440 0h160v-160H620v160Z\"/>\n",
       "  </svg>\n",
       "    </button>\n",
       "\n",
       "  <style>\n",
       "    .colab-df-container {\n",
       "      display:flex;\n",
       "      gap: 12px;\n",
       "    }\n",
       "\n",
       "    .colab-df-convert {\n",
       "      background-color: #E8F0FE;\n",
       "      border: none;\n",
       "      border-radius: 50%;\n",
       "      cursor: pointer;\n",
       "      display: none;\n",
       "      fill: #1967D2;\n",
       "      height: 32px;\n",
       "      padding: 0 0 0 0;\n",
       "      width: 32px;\n",
       "    }\n",
       "\n",
       "    .colab-df-convert:hover {\n",
       "      background-color: #E2EBFA;\n",
       "      box-shadow: 0px 1px 2px rgba(60, 64, 67, 0.3), 0px 1px 3px 1px rgba(60, 64, 67, 0.15);\n",
       "      fill: #174EA6;\n",
       "    }\n",
       "\n",
       "    .colab-df-buttons div {\n",
       "      margin-bottom: 4px;\n",
       "    }\n",
       "\n",
       "    [theme=dark] .colab-df-convert {\n",
       "      background-color: #3B4455;\n",
       "      fill: #D2E3FC;\n",
       "    }\n",
       "\n",
       "    [theme=dark] .colab-df-convert:hover {\n",
       "      background-color: #434B5C;\n",
       "      box-shadow: 0px 1px 3px 1px rgba(0, 0, 0, 0.15);\n",
       "      filter: drop-shadow(0px 1px 2px rgba(0, 0, 0, 0.3));\n",
       "      fill: #FFFFFF;\n",
       "    }\n",
       "  </style>\n",
       "\n",
       "    <script>\n",
       "      const buttonEl =\n",
       "        document.querySelector('#df-3f45125f-730a-4712-ba29-034b70f167df button.colab-df-convert');\n",
       "      buttonEl.style.display =\n",
       "        google.colab.kernel.accessAllowed ? 'block' : 'none';\n",
       "\n",
       "      async function convertToInteractive(key) {\n",
       "        const element = document.querySelector('#df-3f45125f-730a-4712-ba29-034b70f167df');\n",
       "        const dataTable =\n",
       "          await google.colab.kernel.invokeFunction('convertToInteractive',\n",
       "                                                    [key], {});\n",
       "        if (!dataTable) return;\n",
       "\n",
       "        const docLinkHtml = 'Like what you see? Visit the ' +\n",
       "          '<a target=\"_blank\" href=https://colab.research.google.com/notebooks/data_table.ipynb>data table notebook</a>'\n",
       "          + ' to learn more about interactive tables.';\n",
       "        element.innerHTML = '';\n",
       "        dataTable['output_type'] = 'display_data';\n",
       "        await google.colab.output.renderOutput(dataTable, element);\n",
       "        const docLink = document.createElement('div');\n",
       "        docLink.innerHTML = docLinkHtml;\n",
       "        element.appendChild(docLink);\n",
       "      }\n",
       "    </script>\n",
       "  </div>\n",
       "\n",
       "\n",
       "    </div>\n",
       "  </div>\n"
      ],
      "text/plain": [
       "Empty DataFrame\n",
       "Columns: [Número de vistas de página, Usuarios nuevos, Usuarios, Número de sesiones por usuario, Sesiones, Argentina, Otros Paises, mobile, desktop, tablet, Categoría de dispositivo promedio, Categoría de dispositivo std, Windows, Android, Linux, Macintosh, Sistema operativo (not set), iOS, Windows Phone, Chrome OS, Tizen, Sistema operativo promedio, Sistema operativo std, Organic Search, Social, Direct, Referral, Agrupación de canales predeterminada promedio, Agrupación de canales predeterminada std, mediana_de_medianas, lag_90, lag_180, lag_270, lag_360, mediana Dispositivos, mediana Sistema operativo, mediana Agrupación de canales predeterminada]\n",
       "Index: []\n",
       "\n",
       "[0 rows x 37 columns]"
      ]
     },
     "execution_count": 12,
     "metadata": {},
     "output_type": "execute_result"
    }
   ],
   "source": [
    "print(train.isnull().values.any())\n",
    "print(test.isnull().values.any())\n",
    "print(test.isnull().any())\n",
    "test[test.isnull().any(axis=1)]"
   ]
  },
  {
   "cell_type": "code",
   "execution_count": 13,
   "metadata": {
    "colab": {
     "base_uri": "https://localhost:8080/",
     "height": 202
    },
    "executionInfo": {
     "elapsed": 118,
     "status": "ok",
     "timestamp": 1729553308728,
     "user": {
      "displayName": "Enrique Gauto Sand",
      "userId": "16871957759988522994"
     },
     "user_tz": 180
    },
    "id": "E0cDBvC1ezm9",
    "outputId": "12ccd82d-b7c1-4ac0-abf5-bdd85978791e"
   },
   "outputs": [
    {
     "data": {
      "application/vnd.google.colaboratory.intrinsic+json": {
       "type": "string"
      },
      "text/plain": [
       "\"\\nn_past = 50 #va a mirar 10 dias al pasado para predecir x dias a futuro\\nn_future = 7 #anterior 5 #probar 7 dias a futuro\\nn_features = dataset.shape[1] # Columnas totales del dataset\\n\\n#Now convert both the train and test data into samples using the split_series function.\\n\\nX_train, y_train = split_series(train.values,n_past, n_future)\\nX_train = X_train.reshape((X_train.shape[0], X_train.shape[1],n_features))\\n#y_train = y_train.reshape((y_train.shape[0], y_train.shape[1], n_features))\\ny_train = y_train.reshape((y_train.shape[0], y_train.shape[1], 1)) #no hace falta reshapear\\nX_test, y_test = split_series(test.values,n_past, n_future)\\nX_test = X_test.reshape((X_test.shape[0], X_test.shape[1],n_features))\\n#y_test = y_test.reshape((y_test.shape[0], y_test.shape[1], n_features))\\ny_test = y_test.reshape((y_test.shape[0], y_test.shape[1], 1)) #no hace falta reshapear\\nprint('X_train',X_train.shape,X_train)\\nprint('y_train',y_train.shape,y_train)\\nprint('X_test',X_test.shape,X_test)\\nprint('y_test',y_test.shape,y_test)\\n\""
      ]
     },
     "execution_count": 13,
     "metadata": {},
     "output_type": "execute_result"
    }
   ],
   "source": [
    "#reshape a entrada\n",
    "\n",
    "def split_series(series, n_past, n_future):\n",
    "  #\n",
    "  # n_past ==> no of past observations\n",
    "  #\n",
    "  # n_future ==> no of future observations\n",
    "  #\n",
    "  X, y = list(), list()\n",
    "  for window_start in range(len(series)):\n",
    "    past_end = window_start + n_past\n",
    "    future_end = past_end + n_future\n",
    "    if future_end > len(series):\n",
    "      break\n",
    "    # slicing the past and future parts of the window\n",
    "    #past, future = series[window_start:past_end, :], series[past_end:future_end, :]\n",
    "    #window_start cuando comienza  past_end es cuando termina y future_endes cuando termina las series a comparar, 0 es porque solo va a tomar la primera columna\n",
    "    #la cual es la de total de vistas\n",
    "    past, future = series[window_start:past_end, :], series[past_end:future_end, 0]\n",
    "    X.append(past)\n",
    "    y.append(future)\n",
    "  return np.array(X), np.array(y)\n"
   ]
  },
  {
   "cell_type": "code",
   "execution_count": 14,
   "metadata": {
    "colab": {
     "base_uri": "https://localhost:8080/"
    },
    "executionInfo": {
     "elapsed": 86,
     "status": "ok",
     "timestamp": 1729553309529,
     "user": {
      "displayName": "Enrique Gauto Sand",
      "userId": "16871957759988522994"
     },
     "user_tz": 180
    },
    "id": "fFnOW28qQVeF",
    "outputId": "a2941f7e-0954-42d3-8143-e42c86e59eed"
   },
   "outputs": [
    {
     "name": "stdout",
     "output_type": "stream",
     "text": [
      "Filesystem      Size  Used Avail Use% Mounted on\n",
      "overlay         236G   35G  202G  15% /\n",
      "tmpfs            64M     0   64M   0% /dev\n",
      "shm             5.7G     0  5.7G   0% /dev/shm\n",
      "/dev/root       2.0G  1.2G  820M  59% /usr/sbin/docker-init\n",
      "/dev/sda1       242G   62G  181G  26% /opt/bin/.nvidia\n",
      "tmpfs           6.4G  400K  6.4G   1% /var/colab\n",
      "tmpfs           6.4G     0  6.4G   0% /proc/acpi\n",
      "tmpfs           6.4G     0  6.4G   0% /proc/scsi\n",
      "tmpfs           6.4G     0  6.4G   0% /sys/firmware\n",
      "drive           100G   53G   48G  53% /content/drive\n"
     ]
    }
   ],
   "source": [
    "!df -h"
   ]
  },
  {
   "cell_type": "code",
   "execution_count": 15,
   "metadata": {
    "colab": {
     "base_uri": "https://localhost:8080/"
    },
    "executionInfo": {
     "elapsed": 979,
     "status": "ok",
     "timestamp": 1729553311329,
     "user": {
      "displayName": "Enrique Gauto Sand",
      "userId": "16871957759988522994"
     },
     "user_tz": 180
    },
    "id": "8HaGV6nQQgA5",
    "outputId": "3b9f498f-2a97-4255-f3ca-98611a5e0be1"
   },
   "outputs": [
    {
     "name": "stdout",
     "output_type": "stream",
     "text": [
      "processor\t: 0\n",
      "vendor_id\t: GenuineIntel\n",
      "cpu family\t: 6\n",
      "model\t\t: 79\n",
      "model name\t: Intel(R) Xeon(R) CPU @ 2.20GHz\n",
      "stepping\t: 0\n",
      "microcode\t: 0xffffffff\n",
      "cpu MHz\t\t: 2199.998\n",
      "cache size\t: 56320 KB\n",
      "physical id\t: 0\n",
      "siblings\t: 2\n",
      "core id\t\t: 0\n",
      "cpu cores\t: 1\n",
      "apicid\t\t: 0\n",
      "initial apicid\t: 0\n",
      "fpu\t\t: yes\n",
      "fpu_exception\t: yes\n",
      "cpuid level\t: 13\n",
      "wp\t\t: yes\n",
      "flags\t\t: fpu vme de pse tsc msr pae mce cx8 apic sep mtrr pge mca cmov pat pse36 clflush mmx fxsr sse sse2 ss ht syscall nx pdpe1gb rdtscp lm constant_tsc rep_good nopl xtopology nonstop_tsc cpuid tsc_known_freq pni pclmulqdq ssse3 fma cx16 pcid sse4_1 sse4_2 x2apic movbe popcnt aes xsave avx f16c rdrand hypervisor lahf_lm abm 3dnowprefetch invpcid_single ssbd ibrs ibpb stibp fsgsbase tsc_adjust bmi1 hle avx2 smep bmi2 erms invpcid rtm rdseed adx smap xsaveopt arat md_clear arch_capabilities\n",
      "bugs\t\t: cpu_meltdown spectre_v1 spectre_v2 spec_store_bypass l1tf mds swapgs taa mmio_stale_data retbleed bhi\n",
      "bogomips\t: 4399.99\n",
      "clflush size\t: 64\n",
      "cache_alignment\t: 64\n",
      "address sizes\t: 46 bits physical, 48 bits virtual\n",
      "power management:\n",
      "\n",
      "processor\t: 1\n",
      "vendor_id\t: GenuineIntel\n",
      "cpu family\t: 6\n",
      "model\t\t: 79\n",
      "model name\t: Intel(R) Xeon(R) CPU @ 2.20GHz\n",
      "stepping\t: 0\n",
      "microcode\t: 0xffffffff\n",
      "cpu MHz\t\t: 2199.998\n",
      "cache size\t: 56320 KB\n",
      "physical id\t: 0\n",
      "siblings\t: 2\n",
      "core id\t\t: 0\n",
      "cpu cores\t: 1\n",
      "apicid\t\t: 1\n",
      "initial apicid\t: 1\n",
      "fpu\t\t: yes\n",
      "fpu_exception\t: yes\n",
      "cpuid level\t: 13\n",
      "wp\t\t: yes\n",
      "flags\t\t: fpu vme de pse tsc msr pae mce cx8 apic sep mtrr pge mca cmov pat pse36 clflush mmx fxsr sse sse2 ss ht syscall nx pdpe1gb rdtscp lm constant_tsc rep_good nopl xtopology nonstop_tsc cpuid tsc_known_freq pni pclmulqdq ssse3 fma cx16 pcid sse4_1 sse4_2 x2apic movbe popcnt aes xsave avx f16c rdrand hypervisor lahf_lm abm 3dnowprefetch invpcid_single ssbd ibrs ibpb stibp fsgsbase tsc_adjust bmi1 hle avx2 smep bmi2 erms invpcid rtm rdseed adx smap xsaveopt arat md_clear arch_capabilities\n",
      "bugs\t\t: cpu_meltdown spectre_v1 spectre_v2 spec_store_bypass l1tf mds swapgs taa mmio_stale_data retbleed bhi\n",
      "bogomips\t: 4399.99\n",
      "clflush size\t: 64\n",
      "cache_alignment\t: 64\n",
      "address sizes\t: 46 bits physical, 48 bits virtual\n",
      "power management:\n",
      "\n"
     ]
    }
   ],
   "source": [
    "!cat /proc/cpuinfo"
   ]
  },
  {
   "cell_type": "code",
   "execution_count": 16,
   "metadata": {
    "colab": {
     "base_uri": "https://localhost:8080/"
    },
    "executionInfo": {
     "elapsed": 15,
     "status": "ok",
     "timestamp": 1729553312053,
     "user": {
      "displayName": "Enrique Gauto Sand",
      "userId": "16871957759988522994"
     },
     "user_tz": 180
    },
    "id": "Odwvrw9QQiXs",
    "outputId": "7b3e0fff-5ac1-41e4-ce9a-22dfff9f4330"
   },
   "outputs": [
    {
     "name": "stdout",
     "output_type": "stream",
     "text": [
      "MemTotal:       13290452 kB\n",
      "MemFree:         1239056 kB\n",
      "MemAvailable:   11345528 kB\n",
      "Buffers:          538820 kB\n",
      "Cached:          9477224 kB\n",
      "SwapCached:            0 kB\n",
      "Active:          1294336 kB\n",
      "Inactive:       10054680 kB\n",
      "Active(anon):       1696 kB\n",
      "Inactive(anon):  1333480 kB\n",
      "Active(file):    1292640 kB\n",
      "Inactive(file):  8721200 kB\n",
      "Unevictable:          20 kB\n",
      "Mlocked:              20 kB\n",
      "SwapTotal:             0 kB\n",
      "SwapFree:              0 kB\n",
      "Dirty:              7416 kB\n",
      "Writeback:            72 kB\n",
      "AnonPages:       1333184 kB\n",
      "Mapped:           721948 kB\n",
      "Shmem:              2044 kB\n",
      "KReclaimable:     418200 kB\n",
      "Slab:             493548 kB\n",
      "SReclaimable:     418200 kB\n",
      "SUnreclaim:        75348 kB\n",
      "KernelStack:        7720 kB\n",
      "PageTables:        25152 kB\n",
      "SecPageTables:         0 kB\n",
      "NFS_Unstable:          0 kB\n",
      "Bounce:                0 kB\n",
      "WritebackTmp:          0 kB\n",
      "CommitLimit:     6645224 kB\n",
      "Committed_AS:    3963684 kB\n",
      "VmallocTotal:   34359738367 kB\n",
      "VmallocUsed:       81868 kB\n",
      "VmallocChunk:          0 kB\n",
      "Percpu:             1144 kB\n",
      "HardwareCorrupted:     0 kB\n",
      "AnonHugePages:         0 kB\n",
      "ShmemHugePages:        0 kB\n",
      "ShmemPmdMapped:        0 kB\n",
      "FileHugePages:         0 kB\n",
      "FilePmdMapped:         0 kB\n",
      "CmaTotal:              0 kB\n",
      "CmaFree:               0 kB\n",
      "Unaccepted:            0 kB\n",
      "HugePages_Total:       0\n",
      "HugePages_Free:        0\n",
      "HugePages_Rsvd:        0\n",
      "HugePages_Surp:        0\n",
      "Hugepagesize:       2048 kB\n",
      "Hugetlb:               0 kB\n",
      "DirectMap4k:      164664 kB\n",
      "DirectMap2M:     5074944 kB\n",
      "DirectMap1G:    10485760 kB\n"
     ]
    }
   ],
   "source": [
    "!cat /proc/meminfo"
   ]
  },
  {
   "cell_type": "code",
   "execution_count": 17,
   "metadata": {
    "colab": {
     "base_uri": "https://localhost:8080/"
    },
    "executionInfo": {
     "elapsed": 15,
     "status": "ok",
     "timestamp": 1729553312451,
     "user": {
      "displayName": "Enrique Gauto Sand",
      "userId": "16871957759988522994"
     },
     "user_tz": 180
    },
    "id": "LQXAJjUcgCiu",
    "outputId": "566a747d-e919-4809-ceb2-603cac900e7f"
   },
   "outputs": [
    {
     "name": "stdout",
     "output_type": "stream",
     "text": [
      "nvcc: NVIDIA (R) Cuda compiler driver\n",
      "Copyright (c) 2005-2023 NVIDIA Corporation\n",
      "Built on Tue_Aug_15_22:02:13_PDT_2023\n",
      "Cuda compilation tools, release 12.2, V12.2.140\n",
      "Build cuda_12.2.r12.2/compiler.33191640_0\n"
     ]
    }
   ],
   "source": [
    "!/usr/local/cuda/bin/nvcc --version\n",
    "\n"
   ]
  },
  {
   "cell_type": "code",
   "execution_count": 18,
   "metadata": {
    "colab": {
     "base_uri": "https://localhost:8080/"
    },
    "executionInfo": {
     "elapsed": 19,
     "status": "ok",
     "timestamp": 1729553313142,
     "user": {
      "displayName": "Enrique Gauto Sand",
      "userId": "16871957759988522994"
     },
     "user_tz": 180
    },
    "id": "JvgOMQ8phipZ",
    "outputId": "351982fe-c806-47cc-aca2-f96df26c1879"
   },
   "outputs": [
    {
     "name": "stdout",
     "output_type": "stream",
     "text": [
      "/opt/bin/nvidia-smi\n"
     ]
    }
   ],
   "source": [
    "!which nvidia-smi"
   ]
  },
  {
   "cell_type": "code",
   "execution_count": 19,
   "metadata": {
    "colab": {
     "base_uri": "https://localhost:8080/"
    },
    "executionInfo": {
     "elapsed": 17,
     "status": "ok",
     "timestamp": 1729553315832,
     "user": {
      "displayName": "Enrique Gauto Sand",
      "userId": "16871957759988522994"
     },
     "user_tz": 180
    },
    "id": "Er3VxmbjgIqA",
    "outputId": "8673383b-4ded-4b60-8a4d-9dbd001a263b"
   },
   "outputs": [
    {
     "name": "stdout",
     "output_type": "stream",
     "text": [
      "Mon Oct 21 23:28:33 2024       \n",
      "+---------------------------------------------------------------------------------------+\n",
      "| NVIDIA-SMI 535.104.05             Driver Version: 535.104.05   CUDA Version: 12.2     |\n",
      "|-----------------------------------------+----------------------+----------------------+\n",
      "| GPU  Name                 Persistence-M | Bus-Id        Disp.A | Volatile Uncorr. ECC |\n",
      "| Fan  Temp   Perf          Pwr:Usage/Cap |         Memory-Usage | GPU-Util  Compute M. |\n",
      "|                                         |                      |               MIG M. |\n",
      "|=========================================+======================+======================|\n",
      "|   0  Tesla T4                       Off | 00000000:00:04.0 Off |                    0 |\n",
      "| N/A   37C    P8              10W /  70W |      0MiB / 15360MiB |      0%      Default |\n",
      "|                                         |                      |                  N/A |\n",
      "+-----------------------------------------+----------------------+----------------------+\n",
      "                                                                                         \n",
      "+---------------------------------------------------------------------------------------+\n",
      "| Processes:                                                                            |\n",
      "|  GPU   GI   CI        PID   Type   Process name                            GPU Memory |\n",
      "|        ID   ID                                                             Usage      |\n",
      "|=======================================================================================|\n",
      "|  No running processes found                                                           |\n",
      "+---------------------------------------------------------------------------------------+\n"
     ]
    }
   ],
   "source": [
    "!nvidia-smi"
   ]
  },
  {
   "cell_type": "code",
   "execution_count": 20,
   "metadata": {
    "colab": {
     "base_uri": "https://localhost:8080/"
    },
    "executionInfo": {
     "elapsed": 29,
     "status": "ok",
     "timestamp": 1729553316202,
     "user": {
      "displayName": "Enrique Gauto Sand",
      "userId": "16871957759988522994"
     },
     "user_tz": 180
    },
    "id": "JoKcuGu6V-wv",
    "outputId": "0d3134be-961d-4ce4-990f-9e61ff80ed8a"
   },
   "outputs": [
    {
     "name": "stdout",
     "output_type": "stream",
     "text": [
      "Python 3.10.12\n"
     ]
    }
   ],
   "source": [
    "!python --version"
   ]
  },
  {
   "cell_type": "code",
   "execution_count": 21,
   "metadata": {
    "colab": {
     "base_uri": "https://localhost:8080/"
    },
    "executionInfo": {
     "elapsed": 20,
     "status": "ok",
     "timestamp": 1729553316203,
     "user": {
      "displayName": "Enrique Gauto Sand",
      "userId": "16871957759988522994"
     },
     "user_tz": 180
    },
    "id": "xvgfb_DCWRZq",
    "outputId": "f3a5c82d-8460-4aeb-d3db-09ccfa92c84e"
   },
   "outputs": [
    {
     "name": "stdout",
     "output_type": "stream",
     "text": [
      "2.15.0\n",
      "2.1.4\n",
      "1.26.4\n",
      "1.4.7\n"
     ]
    }
   ],
   "source": [
    "import keras_tuner as kt\n",
    "import datetime\n",
    "from datetime import timedelta\n",
    "from pytz import timezone\n",
    "import tensorflow\n",
    "import tensorflow.keras.backend as K\n",
    "import datetime\n",
    "from datetime import timedelta\n",
    "from pytz import timezone\n",
    "print(tf. __version__)\n",
    "print(pd. __version__)\n",
    "print(np. __version__)\n",
    "print(kt. __version__)"
   ]
  },
  {
   "cell_type": "code",
   "execution_count": 22,
   "metadata": {
    "executionInfo": {
     "elapsed": 16,
     "status": "ok",
     "timestamp": 1729553316204,
     "user": {
      "displayName": "Enrique Gauto Sand",
      "userId": "16871957759988522994"
     },
     "user_tz": 180
    },
    "id": "_Aqosl_zkLDO"
   },
   "outputs": [],
   "source": [
    "# Establecer la semilla\n",
    "seed_value = 42\n",
    "import random \n",
    "# Establecer semillas\n",
    "np.random.seed(seed_value)\n",
    "random.seed(seed_value)\n",
    "tf.random.set_seed(seed_value)\n",
    "from tensorflow.keras.saving import register_keras_serializable"
   ]
  },
  {
   "cell_type": "code",
   "execution_count": 23,
   "metadata": {
    "executionInfo": {
     "elapsed": 15,
     "status": "ok",
     "timestamp": 1729553316205,
     "user": {
      "displayName": "Enrique Gauto Sand",
      "userId": "16871957759988522994"
     },
     "user_tz": 180
    },
    "id": "o-4vQsIOK3Ds"
   },
   "outputs": [],
   "source": [
    "media_train=train_previo_zscore['Número de vistas de página'].std()\n",
    "std_train=train_previo_zscore['Número de vistas de página'].mean()\n",
    "#esta metrica esta en el codigo de github del ganador\n",
    "#Propio + https://datascience.stackexchange.com/questions/41093/using-smape-as-a-loss-function-for-an-lstm\n",
    "@register_keras_serializable()\n",
    "def smape_loss(y_true, y_pred):\n",
    "    #revierto zscore\n",
    "    global media_train\n",
    "    global std_train\n",
    "    y_true=(y_true*std_train)+media_train\n",
    "    y_pred=(y_pred*std_train)+media_train\n",
    "    #revierto log1p\n",
    "    y_true=tf.math.expm1(y_true)\n",
    "    y_pred=tf.math.expm1(y_pred)\n",
    "    epsilon = 0.1\n",
    "    y_pred = tf.convert_to_tensor(y_pred)\n",
    "    y_true = tf.cast(y_true, y_pred.dtype)\n",
    "    # Calcular el denominador de SMAPE\n",
    "    summ = tf.maximum(tf.abs(y_true) + tf.abs(y_pred) + epsilon, 0.5 + epsilon)\n",
    "\n",
    "    # Calcular SMAPE\n",
    "    smape = tf.abs(y_pred - y_true) / summ * 2.0\n",
    "\n",
    "    # Retornar la media de SMAPE\n",
    "    return K.mean(smape, axis=-1)\n",
    "\n",
    "@register_keras_serializable()\n",
    "def mae_denorm(y_true, y_pred):\n",
    "    #revierto zscore\n",
    "    global media_train\n",
    "    global std_train\n",
    "    y_true1=(y_true*std_train)+media_train\n",
    "    y_pred1=(y_pred*std_train)+media_train\n",
    "    #revierto log1p\n",
    "    y_true2=tf.math.expm1(y_true1)\n",
    "    y_pred2=tf.math.expm1(y_pred1)\n",
    "\n",
    "    return tf.keras.losses.mean_absolute_error(y_true2, y_pred2)"
   ]
  },
  {
   "cell_type": "code",
   "execution_count": 25,
   "metadata": {
    "colab": {
     "base_uri": "https://localhost:8080/"
    },
    "executionInfo": {
     "elapsed": 2191,
     "status": "ok",
     "timestamp": 1729554403291,
     "user": {
      "displayName": "Enrique Gauto Sand",
      "userId": "16871957759988522994"
     },
     "user_tz": 180
    },
    "id": "Q5cLiQ9wsFZf",
    "outputId": "3734aac6-5bb2-45ce-8125-ff17f60fe7f6"
   },
   "outputs": [
    {
     "name": "stdout",
     "output_type": "stream",
     "text": [
      "Tiempo y n_past 2024-10-21 20:46:41   n_past:--> 60\n",
      "post1 X_train (1265, 60, 37) (228, 60, 1)\n",
      "Reloading Tuner from /content/drive/MyDrive/a Tesis de Grado/Tesis Versiones/tesis 2024/UA/tum transmedia/modelos/modelos resultados/pruebas Nday/hyperband1capaNday60_mae_zscore/mae- zscore-epoch 200- 60 - N_dias 60/tuner0.json\n",
      "Tiempo finalizo_todo y n_past 2024-10-21 20:46:43   n_past:-->\n"
     ]
    }
   ],
   "source": [
    "#E1D1 ==> Sequence to Sequence Model with one encoder layer and one decoder layer.\n",
    "# E1D1\n",
    "# n_features ==> no of features at each timestep in the data.\n",
    "from tensorflow.keras.saving import register_keras_serializable\n",
    "from tensorflow.keras.layers import LayerNormalization\n",
    "class PrintTimeCallback(tf.keras.callbacks.Callback):#https://www.tensorflow.org/guide/keras/writing_your_own_callbacks\n",
    "    '''\n",
    "    def on_train_batch_end(self, batch, logs=None):\n",
    "        cambio=datetime.datetime.now(timezone('UTC')) - timedelta(hours=3)\n",
    "        salida=f\"{cambio:%Y-%m-%d %H:%M:%S }\"\n",
    "        print('Tiempo on_train_batch_end',salida)\n",
    "\n",
    "    def on_test_batch_end(self, batch, logs=None):\n",
    "        cambio=datetime.datetime.now(timezone('UTC')) - timedelta(hours=3)\n",
    "        salida=f\"{cambio:%Y-%m-%d %H:%M:%S }\"\n",
    "        print('Tiempo on_test_batch_end',salida)\n",
    "    '''\n",
    "    def on_epoch_end(self, epoch, logs=None):\n",
    "        cambio=datetime.datetime.now(timezone('UTC')) - timedelta(hours=3)\n",
    "        salida=f\"{cambio:%Y-%m-%d %H:%M:%S }\"\n",
    "        print('Tiempo on_epoch_end',salida)\n",
    "\n",
    "\n",
    "\n",
    "def model_builder(hp,n_past):\n",
    "  hp_LayerUnits=hp.Int(\"units\", min_value=128, max_value=512, step=32)\n",
    "  lr = hp.Float(\"lr\", min_value=1e-4, max_value=1e-2, sampling=\"log\")\n",
    "\n",
    "  encoder_inputs = tf.keras.layers.Input(shape=(n_past, n_features))\n",
    "\n",
    "  encoder_l1 = tf.keras.layers.GRU(units=hp_LayerUnits, return_state=True,activation = 'tanh',#267\n",
    "                recurrent_activation= 'sigmoid',unroll =False,\n",
    "                use_bias =True,reset_after =True)#reemplaze las LSTM por GRU\n",
    "\n",
    "  encoder_outputs1 = encoder_l1(encoder_inputs)#encoder_inputs)\n",
    "\n",
    "  encoder_states1 = encoder_outputs1[1:]\n",
    "  decoder_inputs = tf.keras.layers.RepeatVector(n_future)(encoder_outputs1[0])\n",
    "\n",
    "  #\n",
    "  decoder_l1 = tf.keras.layers.GRU(units=hp_LayerUnits, return_sequences=True,activation = 'tanh',#267\n",
    "                recurrent_activation= 'sigmoid',unroll =False,\n",
    "                use_bias =True,reset_after =True)(decoder_inputs,initial_state = encoder_states1)\n",
    "\n",
    "  decoder_outputs1 = tf.keras.layers.TimeDistributed(tf.keras.layers.Dense(1))(decoder_l1) #para que solo salga 1 array\n",
    "\n",
    "  #\n",
    "  model_e1d1 = tf.keras.models.Model(encoder_inputs,decoder_outputs1)\n",
    "  model_e1d1.compile(optimizer=tf.keras.optimizers.Adam(learning_rate=lr), loss='mae',metrics=[smape_loss,mae_denorm])\n",
    "  return model_e1d1\n",
    "\n",
    "n_future = 60 \n",
    "n_features = dataset.shape[1]\n",
    "pathModelos=\"/content/drive/MyDrive/a Tesis de Grado/Tesis Versiones/tesis 2024/UA/tum transmedia/modelos/modelos resultados/pruebas Nday/hyperband1capaNday60_mae_zscore\"\n",
    "class MyTuner(kt.tuners.Hyperband):\n",
    "  def run_trial(self, trial, *args, **kwargs):\n",
    "    # You can add additional HyperParameters for preprocessing and custom training loops\n",
    "    # via overriding `run_trial`\n",
    "    hp = trial.hyperparameters\n",
    "    kwargs['batch_size'] = trial.hyperparameters.Int('batch_size', 64, 256, step=64)\n",
    "    if \"tuner/epochs\" in hp.values:\n",
    "        kwargs[\"epochs\"] = hp.values[\"tuner/epochs\"]\n",
    "        kwargs[\"initial_epoch\"] = hp.values[\"tuner/initial_epoch\"]\n",
    "    return super(MyTuner, self).run_trial(trial, *args, **kwargs)\n",
    "\n",
    "\n",
    "resultados={}\n",
    "logpaht=pathModelos+\"/logs\"\n",
    "listaValoresNdays=[60]#mejores Extendido\n",
    "for i in listaValoresNdays: \n",
    "      n_past=i\n",
    "      cambio=datetime.datetime.now(timezone('UTC')) - timedelta(hours=3)\n",
    "      tiempoFinal=f\"{cambio:%Y-%m-%d %H:%M:%S }\"\n",
    "      resultados[str(i)]=[tiempoFinal,0,0]\n",
    "      print('Tiempo y n_past',tiempoFinal , ' n_past:-->',n_past)\n",
    "      X_train, y_train = split_series(train.values,n_past, n_future)\n",
    "      X_train = X_train.reshape((X_train.shape[0], X_train.shape[1],n_features))\n",
    "      y_train = y_train.reshape((y_train.shape[0], y_train.shape[1], 1)) #no hace falta reshapear\n",
    "      X_test, y_test = split_series(test.values,n_past, n_future)\n",
    "      X_test = X_test.reshape((X_test.shape[0], X_test.shape[1],n_features))\n",
    "      y_test = y_test.reshape((y_test.shape[0], y_test.shape[1], 1)) #no hace falta reshapear\n",
    "      print(\"post1 X_train\",X_train.shape,y_test.shape)\n",
    "      tuner = MyTuner(\n",
    "        lambda hp: model_builder(hp,i ),\n",
    "        objective ='val_loss',\n",
    "        max_epochs=200,#10 o 20 o 30\n",
    "        factor=3,\n",
    "        #overwrite = True,\n",
    "        directory = pathModelos,\n",
    "        project_name = f'mae- zscore-epoch 200- 60 - N_dias {i}')\n",
    "      callback = tf.keras.callbacks.EarlyStopping(monitor='val_loss', patience=10)#https://pub.towardsai.net/keras-earlystopping-callback-to-train-the-neural-networks-perfectly-2a3f865148f7\n",
    "\n",
    "      tuner.search(X_train, y_train, epochs = 200, callbacks=[callback,PrintTimeCallback(),tf.keras.callbacks.TensorBoard(logpaht)], validation_data = (X_test,y_test))#trials\n",
    "      resultados[str(i)][2]=deepcopy(tuner)\n",
    "      tiempoFinal=f\"{cambio:%Y-%m-%d %H:%M:%S }\"\n",
    "      resultados[str(i)][1]=tiempoFinal\n",
    "      del tuner\n",
    "\n",
    "\n",
    "finalizo_todo=datetime.datetime.now(timezone('UTC')) - timedelta(hours=3)\n",
    "tiempoFinal=f\"{finalizo_todo:%Y-%m-%d %H:%M:%S }\"\n",
    "print('Tiempo finalizo_todo y n_past',tiempoFinal , ' n_past:-->')"
   ]
  },
  {
   "cell_type": "code",
   "execution_count": 26,
   "metadata": {
    "colab": {
     "base_uri": "https://localhost:8080/",
     "height": 203
    },
    "executionInfo": {
     "elapsed": 411,
     "status": "error",
     "timestamp": 1729554429640,
     "user": {
      "displayName": "Enrique Gauto Sand",
      "userId": "16871957759988522994"
     },
     "user_tz": 180
    },
    "id": "fW0qyJVtuzt1",
    "outputId": "80e28923-ca5b-4f44-a2ed-912b73d3c00b"
   },
   "outputs": [
    {
     "name": "stdout",
     "output_type": "stream",
     "text": [
      "Prueba 60\n"
     ]
    },
    {
     "ename": "AttributeError",
     "evalue": "'list' object has no attribute 'history'",
     "output_type": "error",
     "traceback": [
      "\u001b[0;31m---------------------------------------------------------------------------\u001b[0m",
      "\u001b[0;31mAttributeError\u001b[0m                            Traceback (most recent call last)",
      "\u001b[0;32m<ipython-input-26-2e8105c14e37>\u001b[0m in \u001b[0;36m<cell line: 1>\u001b[0;34m()\u001b[0m\n\u001b[1;32m      4\u001b[0m   \u001b[0;31m#print(f\"Fin  {resultados[key][1]}\" )\u001b[0m\u001b[0;34m\u001b[0m\u001b[0;34m\u001b[0m\u001b[0m\n\u001b[1;32m      5\u001b[0m   \u001b[0;31m#print(min(resultados[key][2].history['val_loss']) ,'\\n')\u001b[0m\u001b[0;34m\u001b[0m\u001b[0;34m\u001b[0m\u001b[0m\n\u001b[0;32m----> 6\u001b[0;31m   \u001b[0mprint\u001b[0m\u001b[0;34m(\u001b[0m\u001b[0mresultados\u001b[0m\u001b[0;34m[\u001b[0m\u001b[0mkey\u001b[0m\u001b[0;34m]\u001b[0m\u001b[0;34m.\u001b[0m\u001b[0mhistory\u001b[0m \u001b[0;34m,\u001b[0m\u001b[0;34m'\\n'\u001b[0m\u001b[0;34m)\u001b[0m\u001b[0;34m\u001b[0m\u001b[0;34m\u001b[0m\u001b[0m\n\u001b[0m",
      "\u001b[0;31mAttributeError\u001b[0m: 'list' object has no attribute 'history'"
     ]
    }
   ],
   "source": [
    "for key in resultados:\n",
    "  print(f\"Prueba {key}\" )\n",
    "  #print(f\"Inicio  {resultados[key][0]}\" )\n",
    "  #print(f\"Fin  {resultados[key][1]}\" )\n",
    "  #print(min(resultados[key][2].history['val_loss']) ,'\\n')\n",
    "  print(resultados[key].history ,'\\n')"
   ]
  },
  {
   "cell_type": "code",
   "execution_count": null,
   "metadata": {
    "id": "qwKfe7DsdJ7T"
   },
   "outputs": [],
   "source": [
    "%load_ext tensorboard\n",
    "\n",
    "%tensorboard --logdir \"/content/drive/MyDrive/a Tesis de Grado/Tesis Versiones/tesis 2024/UA/tum transmedia/modelos/modelos resultados/pruebas Nday/hyperband1capaNday60_mae_zscore/logs\""
   ]
  },
  {
   "cell_type": "code",
   "execution_count": 27,
   "metadata": {
    "colab": {
     "base_uri": "https://localhost:8080/"
    },
    "executionInfo": {
     "elapsed": 5955,
     "status": "ok",
     "timestamp": 1729554443055,
     "user": {
      "displayName": "Enrique Gauto Sand",
      "userId": "16871957759988522994"
     },
     "user_tz": 180
    },
    "id": "XVVKbLdUSuBQ",
    "outputId": "fb99144d-5c08-45d0-d54a-4b160e758167"
   },
   "outputs": [
    {
     "name": "stderr",
     "output_type": "stream",
     "text": [
      "/usr/local/lib/python3.10/dist-packages/keras/src/engine/training.py:3103: UserWarning: You are saving your model as an HDF5 file via `model.save()`. This file format is considered legacy. We recommend using instead the native Keras format, e.g. `model.save('my_model.keras')`.\n",
      "  saving_api.save_model(\n"
     ]
    },
    {
     "name": "stdout",
     "output_type": "stream",
     "text": [
      "n_days 60 {'units': 224, 'lr': 0.0012616129268124873, 'batch_size': 64, 'tuner/epochs': 23, 'tuner/initial_epoch': 8, 'tuner/bracket': 3, 'tuner/round': 1, 'tuner/trial_id': '0187'}\n",
      "otro 60 <class 'list'>\n",
      "Results summary\n",
      "Results in /content/drive/MyDrive/a Tesis de Grado/Tesis Versiones/tesis 2024/UA/tum transmedia/modelos/modelos resultados/pruebas Nday/hyperband1capaNday60_mae_zscore/mae- zscore-epoch 200- 60 - N_dias 60\n",
      "Showing 1 best trials\n",
      "Objective(name=\"val_loss\", direction=\"min\")\n",
      "\n",
      "Trial 0189 summary\n",
      "Hyperparameters:\n",
      "units: 224\n",
      "lr: 0.0012616129268124873\n",
      "batch_size: 64\n",
      "tuner/epochs: 23\n",
      "tuner/initial_epoch: 8\n",
      "tuner/bracket: 3\n",
      "tuner/round: 1\n",
      "tuner/trial_id: 0187\n",
      "Score: 0.6209958791732788\n",
      "results_summary <class 'NoneType'>\n"
     ]
    }
   ],
   "source": [
    "pathModelosJsonBuild=\"/content/drive/MyDrive/a Tesis de Grado/Tesis Versiones/tesis 2024/UA/tum transmedia/modelos/modelos resultados/mejores modelos guardados/build\"\n",
    "pathModelosJson=\"/content/drive/MyDrive/a Tesis de Grado/Tesis Versiones/tesis 2024/UA/tum transmedia/modelos/modelos resultados/mejores modelos guardados/modelo\"\n",
    "#deepcopier de tuner en [key][2] arreglar\n",
    "for key in resultados:\n",
    "  best_hps=resultados[key][2].get_best_hyperparameters(num_trials=1)[0]\n",
    "  model=resultados[key][2].hypermodel.build(best_hps)\n",
    "  model.save(pathModelosJsonBuild+f'/ ndays{key}hyperband mae 60 zscore.h5')\n",
    "  print('n_days',key,best_hps.values)\n",
    "  print('otro',key,type(resultados[key]))\n",
    "\n",
    "  best_model = resultados[key][2].get_best_models(1)[0]\n",
    "  best_model.save(pathModelosJson+f'/ ndays{key}hyperband mae 60 zscore.h5')\n",
    "  result=resultados[key][2].results_summary(num_trials=1)\n",
    "  print('results_summary',type(result))"
   ]
  }
 ],
 "metadata": {
  "accelerator": "GPU",
  "colab": {
   "gpuType": "T4",
   "provenance": []
  },
  "kernelspec": {
   "display_name": "Python 3",
   "language": "python",
   "name": "python3"
  },
  "language_info": {
   "codemirror_mode": {
    "name": "ipython",
    "version": 3
   },
   "file_extension": ".py",
   "mimetype": "text/x-python",
   "name": "python",
   "nbconvert_exporter": "python",
   "pygments_lexer": "ipython3",
   "version": "3.7.0"
  }
 },
 "nbformat": 4,
 "nbformat_minor": 1
}
